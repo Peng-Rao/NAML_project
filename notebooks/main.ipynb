{
 "cells": [
  {
   "cell_type": "code",
   "execution_count": 1,
   "metadata": {},
   "outputs": [],
   "source": [
    "import numpy as np\n",
    "import pandas as pd\n",
    "import xgboost as xgb\n",
    "from sklearn.metrics import accuracy_score, classification_report, confusion_matrix\n",
    "from sklearn.model_selection import StratifiedKFold, train_test_split\n",
    "from sklearn.preprocessing import LabelEncoder, StandardScaler\n",
    "from sklearn.utils.class_weight import compute_class_weight"
   ]
  },
  {
   "cell_type": "code",
   "execution_count": 2,
   "metadata": {},
   "outputs": [],
   "source": [
    "file_path = \"../Data/features_30_sec.csv\"  # 训练数据集\n",
    "data = pd.read_csv(file_path)\n",
    "data.drop(labels=\"filename\", axis=1, inplace=True)"
   ]
  },
  {
   "cell_type": "code",
   "execution_count": 3,
   "metadata": {},
   "outputs": [],
   "source": [
    "X = data.iloc[:, :-1].values  # All columns except the last one\n",
    "y = data[\"label\"].values"
   ]
  },
  {
   "cell_type": "code",
   "execution_count": 4,
   "metadata": {},
   "outputs": [],
   "source": [
    "label_encoder = LabelEncoder()\n",
    "y_encoded = label_encoder.fit_transform(y)"
   ]
  },
  {
   "cell_type": "code",
   "execution_count": 5,
   "metadata": {},
   "outputs": [],
   "source": [
    "X_train_full, X_test, y_train_full, y_test = train_test_split(\n",
    "    X, y_encoded, test_size=0.2, stratify=y_encoded, random_state=42\n",
    ")\n",
    "\n",
    "scaler = StandardScaler()\n",
    "X_train_full_scaled = scaler.fit_transform(X_train_full)\n",
    "X_test_scaled = scaler.transform(X_test)"
   ]
  },
  {
   "cell_type": "code",
   "execution_count": 6,
   "metadata": {},
   "outputs": [],
   "source": [
    "class_weights = compute_class_weight(\n",
    "    class_weight=\"balanced\", classes=np.unique(y_train_full), y=y_train_full\n",
    ")\n",
    "class_weight_dict = dict(zip(np.unique(y_train_full), class_weights))\n",
    "sample_weights = np.array(\n",
    "    [class_weight_dict[class_label] for class_label in y_train_full]\n",
    ")"
   ]
  },
  {
   "cell_type": "code",
   "execution_count": 7,
   "metadata": {},
   "outputs": [
    {
     "name": "stdout",
     "output_type": "stream",
     "text": [
      "CV accuracies: [0.75625, 0.70625, 0.78125, 0.75, 0.675]\n",
      "Average CV accuracy: 0.7338\n",
      "\n",
      "Test Accuracy: 0.7500\n",
      "\n",
      "Test Confusion Matrix:\n",
      "[[15  0  2  0  0  1  0  0  2  0]\n",
      " [ 0 20  0  0  0  0  0  0  0  0]\n",
      " [ 1  0 16  0  0  2  0  0  0  1]\n",
      " [ 0  0  2 11  4  0  2  1  0  0]\n",
      " [ 1  0  0  1 15  0  1  0  0  2]\n",
      " [ 1  2  1  0  0 15  0  0  0  1]\n",
      " [ 0  0  0  1  1  0 17  0  1  0]\n",
      " [ 0  0  0  1  0  0  0 18  1  0]\n",
      " [ 0  0  0  1  2  0  0  4 13  0]\n",
      " [ 2  0  2  0  0  3  1  0  2 10]]\n",
      "\n",
      "Test Classification Report:\n",
      "              precision    recall  f1-score   support\n",
      "\n",
      "       blues       0.75      0.75      0.75        20\n",
      "   classical       0.91      1.00      0.95        20\n",
      "     country       0.70      0.80      0.74        20\n",
      "       disco       0.73      0.55      0.63        20\n",
      "      hiphop       0.68      0.75      0.71        20\n",
      "        jazz       0.71      0.75      0.73        20\n",
      "       metal       0.81      0.85      0.83        20\n",
      "         pop       0.78      0.90      0.84        20\n",
      "      reggae       0.68      0.65      0.67        20\n",
      "        rock       0.71      0.50      0.59        20\n",
      "\n",
      "    accuracy                           0.75       200\n",
      "   macro avg       0.75      0.75      0.74       200\n",
      "weighted avg       0.75      0.75      0.74       200\n",
      "\n"
     ]
    }
   ],
   "source": [
    "kfold = StratifiedKFold(n_splits=5, shuffle=True, random_state=42)\n",
    "cv_accuracies = []\n",
    "model = xgb.XGBClassifier(\n",
    "    n_estimators=200, random_state=42, learning_rate=0.01, max_depth=6, subsample=0.8\n",
    ")\n",
    "\n",
    "for train_idx, val_idx in kfold.split(X_train_full_scaled, y_train_full):\n",
    "    X_train, X_val = X_train_full_scaled[train_idx], X_train_full_scaled[val_idx]\n",
    "    y_train, y_val = y_train_full[train_idx], y_train_full[val_idx]\n",
    "    train_sample_weights = sample_weights[train_idx]\n",
    "\n",
    "    model.fit(X_train, y_train, sample_weight=train_sample_weights)\n",
    "    y_val_pred = model.predict(X_val)\n",
    "    cv_accuracies.append(accuracy_score(y_val, y_val_pred))\n",
    "\n",
    "print(f\"CV accuracies: {cv_accuracies}\")\n",
    "print(f\"Average CV accuracy: {np.mean(cv_accuracies):.4f}\")\n",
    "\n",
    "model.fit(X_train_full_scaled, y_train_full, sample_weight=sample_weights)\n",
    "\n",
    "y_test_pred = model.predict(X_test_scaled)\n",
    "test_accuracy = accuracy_score(y_test, y_test_pred)\n",
    "print(f\"\\nTest Accuracy: {test_accuracy:.4f}\")\n",
    "\n",
    "cm_test = confusion_matrix(y_test, y_test_pred)\n",
    "print(\"\\nTest Confusion Matrix:\")\n",
    "print(cm_test)\n",
    "\n",
    "print(\"\\nTest Classification Report:\")\n",
    "print(classification_report(y_test, y_test_pred, target_names=label_encoder.classes_))"
   ]
  }
 ],
 "metadata": {
  "kernelspec": {
   "display_name": ".venv",
   "language": "python",
   "name": "python3"
  },
  "language_info": {
   "codemirror_mode": {
    "name": "ipython",
    "version": 3
   },
   "file_extension": ".py",
   "mimetype": "text/x-python",
   "name": "python",
   "nbconvert_exporter": "python",
   "pygments_lexer": "ipython3",
   "version": "3.10.13"
  }
 },
 "nbformat": 4,
 "nbformat_minor": 2
}
