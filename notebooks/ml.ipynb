{
 "cells": [
  {
   "cell_type": "code",
   "execution_count": null,
   "metadata": {},
   "outputs": [],
   "source": [
    "import warnings\n",
    "\n",
    "import matplotlib.pyplot as plt\n",
    "import numpy as np\n",
    "import pandas as pd\n",
    "import plotly.graph_objects as go\n",
    "import seaborn as sns\n",
    "from sklearn.ensemble import RandomForestClassifier\n",
    "from sklearn.linear_model import LogisticRegression\n",
    "from sklearn.metrics import classification_report, confusion_matrix\n",
    "from sklearn.model_selection import (\n",
    "    RandomizedSearchCV,\n",
    "    StratifiedKFold,\n",
    "    cross_val_score,\n",
    "    train_test_split,\n",
    ")\n",
    "from sklearn.pipeline import Pipeline\n",
    "from sklearn.preprocessing import LabelEncoder, StandardScaler\n",
    "from sklearn.svm import SVC\n",
    "from sklearn.tree import DecisionTreeClassifier\n",
    "from xgboost import XGBClassifier\n",
    "\n",
    "warnings.filterwarnings(\"ignore\")\n",
    "\n",
    "%matplotlib inline\n",
    "%config InlineBackend.figure_format='retina'"
   ]
  },
  {
   "cell_type": "markdown",
   "metadata": {},
   "source": [
    "## Read the dataset\n"
   ]
  },
  {
   "cell_type": "code",
   "execution_count": null,
   "metadata": {},
   "outputs": [],
   "source": [
    "file_path = \"../Data/features_3_sec.csv\"\n",
    "data = pd.read_csv(file_path)\n",
    "data.drop(labels=\"filename\", axis=1, inplace=True)"
   ]
  },
  {
   "cell_type": "code",
   "execution_count": null,
   "metadata": {},
   "outputs": [],
   "source": [
    "X = data.iloc[:, :-1].values\n",
    "y = data[\"label\"].values"
   ]
  },
  {
   "cell_type": "code",
   "execution_count": null,
   "metadata": {},
   "outputs": [],
   "source": [
    "# Transforming the labels to numerical values\n",
    "le = LabelEncoder()\n",
    "y_encoded = le.fit_transform(y)"
   ]
  },
  {
   "cell_type": "markdown",
   "metadata": {},
   "source": [
    "## Split the dataset into training and testing sets\n"
   ]
  },
  {
   "cell_type": "code",
   "execution_count": null,
   "metadata": {},
   "outputs": [],
   "source": [
    "X_train, X_test, y_train, y_test = train_test_split(\n",
    "    X, y_encoded, test_size=0.2, random_state=42, stratify=y_encoded\n",
    ")"
   ]
  },
  {
   "cell_type": "markdown",
   "metadata": {},
   "source": [
    "## Define pipeline to build a model\n"
   ]
  },
  {
   "cell_type": "code",
   "execution_count": null,
   "metadata": {},
   "outputs": [],
   "source": [
    "def build_pipeline(model_name, model):\n",
    "    print(f\"Training {model_name} model\")\n",
    "    pipeline = Pipeline([(\"scaler\", StandardScaler()), (\"model\", model)])\n",
    "    return (model_name, pipeline)"
   ]
  },
  {
   "cell_type": "markdown",
   "metadata": {},
   "source": [
    "## Define the model\n"
   ]
  },
  {
   "cell_type": "code",
   "execution_count": null,
   "metadata": {},
   "outputs": [],
   "source": [
    "models = {\n",
    "    \"Logistic\": LogisticRegression(max_iter=1000, multi_class=\"multinomial\"),\n",
    "    \"SVC\": SVC(),\n",
    "    \"Decision Tree\": DecisionTreeClassifier(),\n",
    "    \"Random Forest\": RandomForestClassifier(),\n",
    "    \"XGBoost\": XGBClassifier(),\n",
    "}"
   ]
  },
  {
   "cell_type": "markdown",
   "metadata": {},
   "source": [
    "## Train the model\n"
   ]
  },
  {
   "cell_type": "code",
   "execution_count": null,
   "metadata": {},
   "outputs": [],
   "source": [
    "results = []\n",
    "names = []\n",
    "for i in range(len(models)):\n",
    "    model_name, model = models.popitem()\n",
    "    model_name, model = build_pipeline(model_name, model)\n",
    "    cv_results = cross_val_score(\n",
    "        model, X_train, y_train, cv=StratifiedKFold(n_splits=5), scoring=\"accuracy\"\n",
    "    )\n",
    "    results.append(cv_results)\n",
    "    names.append(model_name)\n",
    "    print(f\"Model: {model_name}\")\n",
    "    print(f\"Mean accuracy: {np.mean(cv_results)}\")\n",
    "    print(f\"Std deviation: {np.std(cv_results)}\")\n",
    "    print()"
   ]
  },
  {
   "cell_type": "markdown",
   "metadata": {},
   "source": [
    "## Evaluate the model\n"
   ]
  },
  {
   "cell_type": "code",
   "execution_count": null,
   "metadata": {},
   "outputs": [],
   "source": [
    "# Comparing the models\n",
    "fig = go.Figure()\n",
    "\n",
    "for x, y in zip(results, names):\n",
    "    fig.add_trace(go.Box(x=x, name=y))\n",
    "fig.show()\n",
    "fig.write_image(\"../report/graphics/baseline_models.jpg\", scale=5)"
   ]
  },
  {
   "cell_type": "markdown",
   "metadata": {},
   "source": [
    "## model evaluation\n"
   ]
  },
  {
   "cell_type": "code",
   "execution_count": null,
   "metadata": {},
   "outputs": [],
   "source": [
    "# evaluating the xgboost model\n",
    "\n",
    "model = build_pipeline(\"XGBoost\", XGBClassifier())[1]\n",
    "model.fit(X_train, y_train)\n",
    "y_pred = model.predict(X_test)\n",
    "print(classification_report(y_test, y_pred, target_names=le.classes_))\n",
    "print(confusion_matrix(y_test, y_pred))"
   ]
  },
  {
   "cell_type": "code",
   "execution_count": null,
   "metadata": {},
   "outputs": [],
   "source": [
    "cm = confusion_matrix(y_test, y_pred)\n",
    "plt.figure(figsize=(8, 6))\n",
    "sns.heatmap(\n",
    "    cm,\n",
    "    annot=True,\n",
    "    fmt=\"d\",\n",
    "    cmap=\"Blues\",\n",
    "    xticklabels=le.classes_,\n",
    "    yticklabels=le.classes_,\n",
    ")\n",
    "plt.xlabel(\"Predicted Label\")\n",
    "plt.ylabel(\"True Label\")\n",
    "plt.title(\"Confusion Matrix\")\n",
    "plt.tight_layout()\n",
    "plt.savefig(\"../report/graphics/confusion_matrix.pdf\")\n",
    "plt.show()"
   ]
  },
  {
   "cell_type": "markdown",
   "metadata": {},
   "source": [
    "## Hyperparameter tuning\n"
   ]
  },
  {
   "cell_type": "code",
   "execution_count": null,
   "metadata": {},
   "outputs": [],
   "source": [
    "param_grid_xgb = {\n",
    "    \"n_estimators\": [50, 100, 200, 500],  # Number of boosting rounds\n",
    "    \"learning_rate\": [0.01, 0.1, 0.2, 0.3],  # Step size shrinkage\n",
    "    \"max_depth\": [3, 5, 7, 10],  # Maximum depth of trees\n",
    "    \"subsample\": [0.6, 0.8, 1.0],  # Fraction of samples per boosting round\n",
    "    \"colsample_bytree\": [0.6, 0.8, 1.0],  # Fraction of features for each tree\n",
    "    \"gamma\": [0, 0.1, 0.2, 0.3],  # Minimum loss reduction required for a split\n",
    "    \"reg_alpha\": [0, 0.1, 0.5, 1],  # L1 regularization\n",
    "    \"reg_lambda\": [0, 0.1, 0.5, 1],  # L2 regularization\n",
    "}\n",
    "model = XGBClassifier()\n",
    "randomcv = RandomizedSearchCV(\n",
    "    estimator=model,\n",
    "    param_distributions=param_grid_xgb,\n",
    "    n_iter=100,\n",
    "    cv=3,\n",
    "    verbose=2,\n",
    "    n_jobs=-1,\n",
    ")\n",
    "randomcv.fit(X_train, y_train)\n",
    "randomcv.best_params_"
   ]
  },
  {
   "cell_type": "code",
   "execution_count": null,
   "metadata": {},
   "outputs": [],
   "source": [
    "# evaluating the xgboost model with the best parameters\n",
    "model = build_pipeline(\n",
    "    \"XGBoost\",\n",
    "    XGBClassifier(\n",
    "        n_estimators=500,\n",
    "        max_depth=5,\n",
    "        learning_rate=0.2,\n",
    "        gamma=0,\n",
    "        colsample_bytree=0.8,\n",
    "        reg_alpha=0,\n",
    "        reg_lambda=1,\n",
    "        subsample=0.8,\n",
    "    ),\n",
    ")[1]\n",
    "model.fit(X_train, y_train)\n",
    "y_pred = model.predict(X_test)\n",
    "print(classification_report(y_test, y_pred, target_names=le.classes_))\n",
    "print(confusion_matrix(y_test, y_pred))"
   ]
  },
  {
   "cell_type": "code",
   "execution_count": null,
   "metadata": {},
   "outputs": [],
   "source": [
    "# print the importance of each feature\n",
    "\n",
    "xgb_model = model.named_steps[\"model\"]\n",
    "# Get feature importance scores\n",
    "importance = xgb_model.feature_importances_\n",
    "\n",
    "\n",
    "# Get feature names\n",
    "feature_names = data.columns[:-1]\n",
    "# Convert to DataFrame\n",
    "importance_df = pd.DataFrame({\"Feature\": feature_names, \"Importance\": importance})\n",
    "\n",
    "# Sort by importance\n",
    "importance_df = importance_df.sort_values(by=\"Importance\", ascending=False)\n",
    "\n",
    "importance_df = importance_df.head(10)\n",
    "\n",
    "# Plot with correct y-axis labels\n",
    "plt.figure(figsize=(20, 12))\n",
    "sns.barplot(x=\"Importance\", y=\"Feature\", data=importance_df)\n",
    "plt.xlabel(\"Importance Score\")\n",
    "plt.ylabel(\"Feature Name\")\n",
    "plt.title(\"Feature Importance\")\n",
    "plt.savefig(\"../report/graphics/feature_importance.pdf\")\n",
    "plt.show()"
   ]
  },
  {
   "cell_type": "code",
   "execution_count": null,
   "metadata": {},
   "outputs": [],
   "source": [
    "# Evaluate SVM model\n",
    "model = build_pipeline(\"SVM\", SVC())[1]\n",
    "model.fit(X_train, y_train)\n",
    "y_pred = model.predict(X_test)\n",
    "print(classification_report(y_test, y_pred, target_names=le.classes_))\n",
    "print(confusion_matrix(y_test, y_pred))"
   ]
  },
  {
   "cell_type": "code",
   "execution_count": null,
   "metadata": {},
   "outputs": [],
   "source": [
    "# Evaluate Random Forest model\n",
    "model = build_pipeline(\"Random Forest\", RandomForestClassifier())[1]\n",
    "model.fit(X_train, y_train)\n",
    "y_pred = model.predict(X_test)\n",
    "print(classification_report(y_test, y_pred, target_names=le.classes_))\n",
    "print(confusion_matrix(y_test, y_pred))"
   ]
  }
 ],
 "metadata": {
  "kernelspec": {
   "display_name": ".venv",
   "language": "python",
   "name": "python3"
  },
  "language_info": {
   "codemirror_mode": {
    "name": "ipython",
    "version": 3
   },
   "file_extension": ".py",
   "mimetype": "text/x-python",
   "name": "python",
   "nbconvert_exporter": "python",
   "pygments_lexer": "ipython3",
   "version": "3.10.13"
  }
 },
 "nbformat": 4,
 "nbformat_minor": 2
}
