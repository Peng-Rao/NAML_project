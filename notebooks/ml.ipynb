{
 "cells": [
  {
   "cell_type": "code",
   "execution_count": 1,
   "metadata": {},
   "outputs": [],
   "source": [
    "import warnings\n",
    "\n",
    "import matplotlib.pyplot as plt\n",
    "import numpy as np\n",
    "import pandas as pd\n",
    "import plotly.graph_objects as go\n",
    "import seaborn as sns\n",
    "from sklearn.ensemble import RandomForestClassifier\n",
    "from sklearn.linear_model import LogisticRegression\n",
    "from sklearn.metrics import classification_report, confusion_matrix\n",
    "from sklearn.model_selection import (\n",
    "    RandomizedSearchCV,\n",
    "    StratifiedKFold,\n",
    "    cross_val_score,\n",
    "    train_test_split,\n",
    ")\n",
    "from sklearn.pipeline import Pipeline\n",
    "from sklearn.preprocessing import LabelEncoder, StandardScaler\n",
    "from sklearn.svm import SVC\n",
    "from sklearn.tree import DecisionTreeClassifier\n",
    "from xgboost import XGBClassifier\n",
    "\n",
    "warnings.filterwarnings(\"ignore\")\n",
    "\n",
    "%matplotlib inline\n",
    "%config InlineBackend.figure_format='retina'"
   ]
  },
  {
   "cell_type": "markdown",
   "metadata": {},
   "source": [
    "## Read the dataset\n"
   ]
  },
  {
   "cell_type": "code",
   "execution_count": 2,
   "metadata": {},
   "outputs": [],
   "source": [
    "file_path = \"../Data/features_3_sec.csv\"\n",
    "data = pd.read_csv(file_path)\n",
    "data.drop(labels=\"filename\", axis=1, inplace=True)"
   ]
  },
  {
   "cell_type": "code",
   "execution_count": 3,
   "metadata": {},
   "outputs": [],
   "source": [
    "X = data.iloc[:, :-1].values\n",
    "y = data[\"label\"].values"
   ]
  },
  {
   "cell_type": "code",
   "execution_count": 4,
   "metadata": {},
   "outputs": [],
   "source": [
    "# Transforming the labels to numerical values\n",
    "le = LabelEncoder()\n",
    "y_encoded = le.fit_transform(y)"
   ]
  },
  {
   "cell_type": "markdown",
   "metadata": {},
   "source": [
    "## Split the dataset into training and testing sets\n"
   ]
  },
  {
   "cell_type": "code",
   "execution_count": 5,
   "metadata": {},
   "outputs": [],
   "source": [
    "X_train, X_test, y_train, y_test = train_test_split(\n",
    "    X, y_encoded, test_size=0.2, random_state=42, stratify=y_encoded\n",
    ")"
   ]
  },
  {
   "cell_type": "markdown",
   "metadata": {},
   "source": [
    "## Define pipeline to build a model\n"
   ]
  },
  {
   "cell_type": "code",
   "execution_count": 6,
   "metadata": {},
   "outputs": [],
   "source": [
    "def build_pipeline(model_name, model):\n",
    "    print(f\"Training {model_name} model\")\n",
    "    pipeline = Pipeline([(\"scaler\", StandardScaler()), (\"model\", model)])\n",
    "    return (model_name, pipeline)"
   ]
  },
  {
   "cell_type": "markdown",
   "metadata": {},
   "source": [
    "## Define the model\n"
   ]
  },
  {
   "cell_type": "code",
   "execution_count": 7,
   "metadata": {},
   "outputs": [],
   "source": [
    "models = {\n",
    "    \"Logistic\": LogisticRegression(max_iter=1000, multi_class=\"multinomial\"),\n",
    "    \"SVC\": SVC(),\n",
    "    \"Decision Tree\": DecisionTreeClassifier(),\n",
    "    \"Random Forest\": RandomForestClassifier(),\n",
    "    \"XGBoost\": XGBClassifier(),\n",
    "}"
   ]
  },
  {
   "cell_type": "markdown",
   "metadata": {},
   "source": [
    "## Train the model\n"
   ]
  },
  {
   "cell_type": "code",
   "execution_count": 8,
   "metadata": {},
   "outputs": [
    {
     "name": "stdout",
     "output_type": "stream",
     "text": [
      "Training XGBoost model\n",
      "Model: XGBoost\n",
      "Mean accuracy: 0.8941444942513351\n",
      "Std deviation: 0.005999984734518084\n",
      "\n",
      "Training Random Forest model\n",
      "Model: Random Forest\n",
      "Mean accuracy: 0.854104215635398\n",
      "Std deviation: 0.003609574657666492\n",
      "\n",
      "Training Decision Tree model\n",
      "Model: Decision Tree\n",
      "Mean accuracy: 0.6277520916154574\n",
      "Std deviation: 0.007454100963263648\n",
      "\n",
      "Training SVC model\n",
      "Model: SVC\n",
      "Mean accuracy: 0.8449684995550255\n",
      "Std deviation: 0.00720081799489399\n",
      "\n",
      "Training Logistic model\n",
      "Model: Logistic\n",
      "Mean accuracy: 0.7203442232747157\n",
      "Std deviation: 0.009356116696873765\n",
      "\n"
     ]
    }
   ],
   "source": [
    "results = []\n",
    "names = []\n",
    "for i in range(len(models)):\n",
    "    model_name, model = models.popitem()\n",
    "    model_name, model = build_pipeline(model_name, model)\n",
    "    cv_results = cross_val_score(\n",
    "        model, X_train, y_train, cv=StratifiedKFold(n_splits=5), scoring=\"accuracy\"\n",
    "    )\n",
    "    results.append(cv_results)\n",
    "    names.append(model_name)\n",
    "    print(f\"Model: {model_name}\")\n",
    "    print(f\"Mean accuracy: {np.mean(cv_results)}\")\n",
    "    print(f\"Std deviation: {np.std(cv_results)}\")\n",
    "    print()"
   ]
  },
  {
   "cell_type": "markdown",
   "metadata": {},
   "source": [
    "## Evaluate the model\n"
   ]
  },
  {
   "cell_type": "code",
   "execution_count": 9,
   "metadata": {},
   "outputs": [
    {
     "data": {
      "application/vnd.plotly.v1+json": {
       "config": {
        "plotlyServerURL": "https://plot.ly"
       },
       "data": [
        {
         "name": "XGBoost",
         "type": "box",
         "x": {
          "bdata": "tWgO2tJl7D+pYeIG67zsP+6mKcIeYOw/OnaRhiSy7D/hXcVoJ9vsPw==",
          "dtype": "f8"
         }
        },
        {
         "name": "Random Forest",
         "type": "box",
         "x": {
          "bdata": "flE9P0tW6z8lJegqDEzrP5rgXcVoJ+s/0KlSQq+D6z8qwh5grFrrPw==",
          "dtype": "f8"
         }
        },
        {
         "name": "Decision Tree",
         "type": "box",
         "x": {
          "bdata": "CLJYqih+5D947AVlN9rjPxCTK4jJFeQ/l7fdNEXY4z/jhkX5SirkPw==",
          "dtype": "f8"
         }
        },
        {
         "name": "SVC",
         "type": "box",
         "x": {
          "bdata": "idY8fAh16z+JWGkSM//qP3od3I/hwOo/Cv+cKiX06j/d8rabpgjrPw==",
          "dtype": "f8"
         }
        },
        {
         "name": "Logistic",
         "type": "box",
         "x": {
          "bdata": "uP73TadV5z9JyKO/7Q3nP+Nl/lqc6OY/ohlQOnaR5j/WHJoBpWPnPw==",
          "dtype": "f8"
         }
        }
       ],
       "layout": {
        "template": {
         "data": {
          "bar": [
           {
            "error_x": {
             "color": "#2a3f5f"
            },
            "error_y": {
             "color": "#2a3f5f"
            },
            "marker": {
             "line": {
              "color": "#E5ECF6",
              "width": 0.5
             },
             "pattern": {
              "fillmode": "overlay",
              "size": 10,
              "solidity": 0.2
             }
            },
            "type": "bar"
           }
          ],
          "barpolar": [
           {
            "marker": {
             "line": {
              "color": "#E5ECF6",
              "width": 0.5
             },
             "pattern": {
              "fillmode": "overlay",
              "size": 10,
              "solidity": 0.2
             }
            },
            "type": "barpolar"
           }
          ],
          "carpet": [
           {
            "aaxis": {
             "endlinecolor": "#2a3f5f",
             "gridcolor": "white",
             "linecolor": "white",
             "minorgridcolor": "white",
             "startlinecolor": "#2a3f5f"
            },
            "baxis": {
             "endlinecolor": "#2a3f5f",
             "gridcolor": "white",
             "linecolor": "white",
             "minorgridcolor": "white",
             "startlinecolor": "#2a3f5f"
            },
            "type": "carpet"
           }
          ],
          "choropleth": [
           {
            "colorbar": {
             "outlinewidth": 0,
             "ticks": ""
            },
            "type": "choropleth"
           }
          ],
          "contour": [
           {
            "colorbar": {
             "outlinewidth": 0,
             "ticks": ""
            },
            "colorscale": [
             [
              0,
              "#0d0887"
             ],
             [
              0.1111111111111111,
              "#46039f"
             ],
             [
              0.2222222222222222,
              "#7201a8"
             ],
             [
              0.3333333333333333,
              "#9c179e"
             ],
             [
              0.4444444444444444,
              "#bd3786"
             ],
             [
              0.5555555555555556,
              "#d8576b"
             ],
             [
              0.6666666666666666,
              "#ed7953"
             ],
             [
              0.7777777777777778,
              "#fb9f3a"
             ],
             [
              0.8888888888888888,
              "#fdca26"
             ],
             [
              1,
              "#f0f921"
             ]
            ],
            "type": "contour"
           }
          ],
          "contourcarpet": [
           {
            "colorbar": {
             "outlinewidth": 0,
             "ticks": ""
            },
            "type": "contourcarpet"
           }
          ],
          "heatmap": [
           {
            "colorbar": {
             "outlinewidth": 0,
             "ticks": ""
            },
            "colorscale": [
             [
              0,
              "#0d0887"
             ],
             [
              0.1111111111111111,
              "#46039f"
             ],
             [
              0.2222222222222222,
              "#7201a8"
             ],
             [
              0.3333333333333333,
              "#9c179e"
             ],
             [
              0.4444444444444444,
              "#bd3786"
             ],
             [
              0.5555555555555556,
              "#d8576b"
             ],
             [
              0.6666666666666666,
              "#ed7953"
             ],
             [
              0.7777777777777778,
              "#fb9f3a"
             ],
             [
              0.8888888888888888,
              "#fdca26"
             ],
             [
              1,
              "#f0f921"
             ]
            ],
            "type": "heatmap"
           }
          ],
          "histogram": [
           {
            "marker": {
             "pattern": {
              "fillmode": "overlay",
              "size": 10,
              "solidity": 0.2
             }
            },
            "type": "histogram"
           }
          ],
          "histogram2d": [
           {
            "colorbar": {
             "outlinewidth": 0,
             "ticks": ""
            },
            "colorscale": [
             [
              0,
              "#0d0887"
             ],
             [
              0.1111111111111111,
              "#46039f"
             ],
             [
              0.2222222222222222,
              "#7201a8"
             ],
             [
              0.3333333333333333,
              "#9c179e"
             ],
             [
              0.4444444444444444,
              "#bd3786"
             ],
             [
              0.5555555555555556,
              "#d8576b"
             ],
             [
              0.6666666666666666,
              "#ed7953"
             ],
             [
              0.7777777777777778,
              "#fb9f3a"
             ],
             [
              0.8888888888888888,
              "#fdca26"
             ],
             [
              1,
              "#f0f921"
             ]
            ],
            "type": "histogram2d"
           }
          ],
          "histogram2dcontour": [
           {
            "colorbar": {
             "outlinewidth": 0,
             "ticks": ""
            },
            "colorscale": [
             [
              0,
              "#0d0887"
             ],
             [
              0.1111111111111111,
              "#46039f"
             ],
             [
              0.2222222222222222,
              "#7201a8"
             ],
             [
              0.3333333333333333,
              "#9c179e"
             ],
             [
              0.4444444444444444,
              "#bd3786"
             ],
             [
              0.5555555555555556,
              "#d8576b"
             ],
             [
              0.6666666666666666,
              "#ed7953"
             ],
             [
              0.7777777777777778,
              "#fb9f3a"
             ],
             [
              0.8888888888888888,
              "#fdca26"
             ],
             [
              1,
              "#f0f921"
             ]
            ],
            "type": "histogram2dcontour"
           }
          ],
          "mesh3d": [
           {
            "colorbar": {
             "outlinewidth": 0,
             "ticks": ""
            },
            "type": "mesh3d"
           }
          ],
          "parcoords": [
           {
            "line": {
             "colorbar": {
              "outlinewidth": 0,
              "ticks": ""
             }
            },
            "type": "parcoords"
           }
          ],
          "pie": [
           {
            "automargin": true,
            "type": "pie"
           }
          ],
          "scatter": [
           {
            "fillpattern": {
             "fillmode": "overlay",
             "size": 10,
             "solidity": 0.2
            },
            "type": "scatter"
           }
          ],
          "scatter3d": [
           {
            "line": {
             "colorbar": {
              "outlinewidth": 0,
              "ticks": ""
             }
            },
            "marker": {
             "colorbar": {
              "outlinewidth": 0,
              "ticks": ""
             }
            },
            "type": "scatter3d"
           }
          ],
          "scattercarpet": [
           {
            "marker": {
             "colorbar": {
              "outlinewidth": 0,
              "ticks": ""
             }
            },
            "type": "scattercarpet"
           }
          ],
          "scattergeo": [
           {
            "marker": {
             "colorbar": {
              "outlinewidth": 0,
              "ticks": ""
             }
            },
            "type": "scattergeo"
           }
          ],
          "scattergl": [
           {
            "marker": {
             "colorbar": {
              "outlinewidth": 0,
              "ticks": ""
             }
            },
            "type": "scattergl"
           }
          ],
          "scattermap": [
           {
            "marker": {
             "colorbar": {
              "outlinewidth": 0,
              "ticks": ""
             }
            },
            "type": "scattermap"
           }
          ],
          "scattermapbox": [
           {
            "marker": {
             "colorbar": {
              "outlinewidth": 0,
              "ticks": ""
             }
            },
            "type": "scattermapbox"
           }
          ],
          "scatterpolar": [
           {
            "marker": {
             "colorbar": {
              "outlinewidth": 0,
              "ticks": ""
             }
            },
            "type": "scatterpolar"
           }
          ],
          "scatterpolargl": [
           {
            "marker": {
             "colorbar": {
              "outlinewidth": 0,
              "ticks": ""
             }
            },
            "type": "scatterpolargl"
           }
          ],
          "scatterternary": [
           {
            "marker": {
             "colorbar": {
              "outlinewidth": 0,
              "ticks": ""
             }
            },
            "type": "scatterternary"
           }
          ],
          "surface": [
           {
            "colorbar": {
             "outlinewidth": 0,
             "ticks": ""
            },
            "colorscale": [
             [
              0,
              "#0d0887"
             ],
             [
              0.1111111111111111,
              "#46039f"
             ],
             [
              0.2222222222222222,
              "#7201a8"
             ],
             [
              0.3333333333333333,
              "#9c179e"
             ],
             [
              0.4444444444444444,
              "#bd3786"
             ],
             [
              0.5555555555555556,
              "#d8576b"
             ],
             [
              0.6666666666666666,
              "#ed7953"
             ],
             [
              0.7777777777777778,
              "#fb9f3a"
             ],
             [
              0.8888888888888888,
              "#fdca26"
             ],
             [
              1,
              "#f0f921"
             ]
            ],
            "type": "surface"
           }
          ],
          "table": [
           {
            "cells": {
             "fill": {
              "color": "#EBF0F8"
             },
             "line": {
              "color": "white"
             }
            },
            "header": {
             "fill": {
              "color": "#C8D4E3"
             },
             "line": {
              "color": "white"
             }
            },
            "type": "table"
           }
          ]
         },
         "layout": {
          "annotationdefaults": {
           "arrowcolor": "#2a3f5f",
           "arrowhead": 0,
           "arrowwidth": 1
          },
          "autotypenumbers": "strict",
          "coloraxis": {
           "colorbar": {
            "outlinewidth": 0,
            "ticks": ""
           }
          },
          "colorscale": {
           "diverging": [
            [
             0,
             "#8e0152"
            ],
            [
             0.1,
             "#c51b7d"
            ],
            [
             0.2,
             "#de77ae"
            ],
            [
             0.3,
             "#f1b6da"
            ],
            [
             0.4,
             "#fde0ef"
            ],
            [
             0.5,
             "#f7f7f7"
            ],
            [
             0.6,
             "#e6f5d0"
            ],
            [
             0.7,
             "#b8e186"
            ],
            [
             0.8,
             "#7fbc41"
            ],
            [
             0.9,
             "#4d9221"
            ],
            [
             1,
             "#276419"
            ]
           ],
           "sequential": [
            [
             0,
             "#0d0887"
            ],
            [
             0.1111111111111111,
             "#46039f"
            ],
            [
             0.2222222222222222,
             "#7201a8"
            ],
            [
             0.3333333333333333,
             "#9c179e"
            ],
            [
             0.4444444444444444,
             "#bd3786"
            ],
            [
             0.5555555555555556,
             "#d8576b"
            ],
            [
             0.6666666666666666,
             "#ed7953"
            ],
            [
             0.7777777777777778,
             "#fb9f3a"
            ],
            [
             0.8888888888888888,
             "#fdca26"
            ],
            [
             1,
             "#f0f921"
            ]
           ],
           "sequentialminus": [
            [
             0,
             "#0d0887"
            ],
            [
             0.1111111111111111,
             "#46039f"
            ],
            [
             0.2222222222222222,
             "#7201a8"
            ],
            [
             0.3333333333333333,
             "#9c179e"
            ],
            [
             0.4444444444444444,
             "#bd3786"
            ],
            [
             0.5555555555555556,
             "#d8576b"
            ],
            [
             0.6666666666666666,
             "#ed7953"
            ],
            [
             0.7777777777777778,
             "#fb9f3a"
            ],
            [
             0.8888888888888888,
             "#fdca26"
            ],
            [
             1,
             "#f0f921"
            ]
           ]
          },
          "colorway": [
           "#636efa",
           "#EF553B",
           "#00cc96",
           "#ab63fa",
           "#FFA15A",
           "#19d3f3",
           "#FF6692",
           "#B6E880",
           "#FF97FF",
           "#FECB52"
          ],
          "font": {
           "color": "#2a3f5f"
          },
          "geo": {
           "bgcolor": "white",
           "lakecolor": "white",
           "landcolor": "#E5ECF6",
           "showlakes": true,
           "showland": true,
           "subunitcolor": "white"
          },
          "hoverlabel": {
           "align": "left"
          },
          "hovermode": "closest",
          "mapbox": {
           "style": "light"
          },
          "paper_bgcolor": "white",
          "plot_bgcolor": "#E5ECF6",
          "polar": {
           "angularaxis": {
            "gridcolor": "white",
            "linecolor": "white",
            "ticks": ""
           },
           "bgcolor": "#E5ECF6",
           "radialaxis": {
            "gridcolor": "white",
            "linecolor": "white",
            "ticks": ""
           }
          },
          "scene": {
           "xaxis": {
            "backgroundcolor": "#E5ECF6",
            "gridcolor": "white",
            "gridwidth": 2,
            "linecolor": "white",
            "showbackground": true,
            "ticks": "",
            "zerolinecolor": "white"
           },
           "yaxis": {
            "backgroundcolor": "#E5ECF6",
            "gridcolor": "white",
            "gridwidth": 2,
            "linecolor": "white",
            "showbackground": true,
            "ticks": "",
            "zerolinecolor": "white"
           },
           "zaxis": {
            "backgroundcolor": "#E5ECF6",
            "gridcolor": "white",
            "gridwidth": 2,
            "linecolor": "white",
            "showbackground": true,
            "ticks": "",
            "zerolinecolor": "white"
           }
          },
          "shapedefaults": {
           "line": {
            "color": "#2a3f5f"
           }
          },
          "ternary": {
           "aaxis": {
            "gridcolor": "white",
            "linecolor": "white",
            "ticks": ""
           },
           "baxis": {
            "gridcolor": "white",
            "linecolor": "white",
            "ticks": ""
           },
           "bgcolor": "#E5ECF6",
           "caxis": {
            "gridcolor": "white",
            "linecolor": "white",
            "ticks": ""
           }
          },
          "title": {
           "x": 0.05
          },
          "xaxis": {
           "automargin": true,
           "gridcolor": "white",
           "linecolor": "white",
           "ticks": "",
           "title": {
            "standoff": 15
           },
           "zerolinecolor": "white",
           "zerolinewidth": 2
          },
          "yaxis": {
           "automargin": true,
           "gridcolor": "white",
           "linecolor": "white",
           "ticks": "",
           "title": {
            "standoff": 15
           },
           "zerolinecolor": "white",
           "zerolinewidth": 2
          }
         }
        }
       }
      }
     },
     "metadata": {},
     "output_type": "display_data"
    }
   ],
   "source": [
    "# Comparing the models\n",
    "fig = go.Figure()\n",
    "\n",
    "for x, y in zip(results, names):\n",
    "    fig.add_trace(go.Box(x=x, name=y))\n",
    "fig.show()\n",
    "fig.write_image(\"../report/graphics/baseline_models.jpg\", scale=5)"
   ]
  },
  {
   "cell_type": "markdown",
   "metadata": {},
   "source": [
    "## model evaluation\n"
   ]
  },
  {
   "cell_type": "code",
   "execution_count": 10,
   "metadata": {},
   "outputs": [
    {
     "name": "stdout",
     "output_type": "stream",
     "text": [
      "Training XGBoost model\n",
      "              precision    recall  f1-score   support\n",
      "\n",
      "       blues       0.88      0.90      0.89       200\n",
      "   classical       0.92      0.96      0.94       199\n",
      "     country       0.84      0.87      0.86       199\n",
      "       disco       0.88      0.92      0.90       200\n",
      "      hiphop       0.92      0.91      0.91       200\n",
      "        jazz       0.89      0.90      0.89       200\n",
      "       metal       0.95      0.94      0.94       200\n",
      "         pop       0.95      0.87      0.91       200\n",
      "      reggae       0.88      0.90      0.89       200\n",
      "        rock       0.89      0.83      0.86       200\n",
      "\n",
      "    accuracy                           0.90      1998\n",
      "   macro avg       0.90      0.90      0.90      1998\n",
      "weighted avg       0.90      0.90      0.90      1998\n",
      "\n",
      "[[179   1   5   1   1   4   3   0   4   2]\n",
      " [  0 192   1   0   0   5   0   1   0   0]\n",
      " [  7   1 174   1   1   6   0   2   4   3]\n",
      " [  3   1   3 183   0   1   3   1   3   2]\n",
      " [  0   0   3   3 182   2   3   2   5   0]\n",
      " [  4   9   4   0   0 180   0   0   1   2]\n",
      " [  3   0   1   3   0   0 188   0   1   4]\n",
      " [  0   0   3   8   7   1   0 174   2   5]\n",
      " [  1   2   4   2   6   1   0   3 179   2]\n",
      " [  6   2  10   6   1   3   1   0   4 167]]\n"
     ]
    }
   ],
   "source": [
    "# evaluating the xgboost model\n",
    "\n",
    "model = build_pipeline(\"XGBoost\", XGBClassifier())[1]\n",
    "model.fit(X_train, y_train)\n",
    "y_pred = model.predict(X_test)\n",
    "print(classification_report(y_test, y_pred, target_names=le.classes_))\n",
    "print(confusion_matrix(y_test, y_pred))"
   ]
  },
  {
   "cell_type": "code",
   "execution_count": 11,
   "metadata": {},
   "outputs": [
    {
     "data": {
      "image/png": "[encoded data removed]",
      "text/plain": [
       "<Figure size 800x600 with 2 Axes>"
      ]
     },
     "metadata": {
      "image/png": {
       "height": 589,
       "width": 746
      }
     },
     "output_type": "display_data"
    }
   ],
   "source": [
    "cm = confusion_matrix(y_test, y_pred)\n",
    "plt.figure(figsize=(8, 6))\n",
    "sns.heatmap(\n",
    "    cm,\n",
    "    annot=True,\n",
    "    fmt=\"d\",\n",
    "    cmap=\"Blues\",\n",
    "    xticklabels=le.classes_,\n",
    "    yticklabels=le.classes_,\n",
    ")\n",
    "plt.xlabel(\"Predicted Label\")\n",
    "plt.ylabel(\"True Label\")\n",
    "plt.title(\"Confusion Matrix\")\n",
    "plt.tight_layout()\n",
    "plt.savefig(\"../report/graphics/confusion_matrix.pdf\")\n",
    "plt.show()"
   ]
  },
  {
   "cell_type": "markdown",
   "metadata": {},
   "source": [
    "## Hyperparameter tuning\n"
   ]
  },
  {
   "cell_type": "code",
   "execution_count": 12,
   "metadata": {},
   "outputs": [
    {
     "name": "stdout",
     "output_type": "stream",
     "text": [
      "Fitting 3 folds for each of 100 candidates, totalling 300 fits\n",
      "[CV] END colsample_bytree=0.6, gamma=0.3, learning_rate=0.3, max_depth=7, n_estimators=50, reg_alpha=0.1, reg_lambda=0.5, subsample=0.6; total time=   1.7s\n",
      "[CV] END colsample_bytree=0.6, gamma=0.3, learning_rate=0.3, max_depth=7, n_estimators=50, reg_alpha=0.1, reg_lambda=0.5, subsample=0.6; total time=   2.1s\n",
      "[CV] END colsample_bytree=0.6, gamma=0.3, learning_rate=0.3, max_depth=7, n_estimators=50, reg_alpha=0.1, reg_lambda=0.5, subsample=0.6; total time=   2.2s\n",
      "[CV] END colsample_bytree=0.8, gamma=0.1, learning_rate=0.1, max_depth=10, n_estimators=50, reg_alpha=0.1, reg_lambda=0.1, subsample=1.0; total time=   6.3s\n",
      "[CV] END colsample_bytree=0.8, gamma=0.1, learning_rate=0.1, max_depth=10, n_estimators=50, reg_alpha=0.1, reg_lambda=0.1, subsample=1.0; total time=   6.2s\n",
      "[CV] END colsample_bytree=0.8, gamma=0.1, learning_rate=0.1, max_depth=10, n_estimators=50, reg_alpha=0.1, reg_lambda=0.1, subsample=1.0; total time=   6.2s\n",
      "[CV] END colsample_bytree=1.0, gamma=0.2, learning_rate=0.3, max_depth=10, n_estimators=500, reg_alpha=0.1, reg_lambda=0.5, subsample=0.8; total time=   6.2s\n",
      "[CV] END colsample_bytree=1.0, gamma=0.2, learning_rate=0.3, max_depth=10, n_estimators=500, reg_alpha=0.1, reg_lambda=0.5, subsample=0.8; total time=   5.9s\n",
      "[CV] END colsample_bytree=1.0, gamma=0.2, learning_rate=0.3, max_depth=10, n_estimators=500, reg_alpha=0.1, reg_lambda=0.5, subsample=0.8; total time=   6.2s\n",
      "[CV] END colsample_bytree=1.0, gamma=0.1, learning_rate=0.3, max_depth=7, n_estimators=200, reg_alpha=0.5, reg_lambda=1, subsample=0.6; total time=   4.4s\n",
      "[CV] END colsample_bytree=1.0, gamma=0.1, learning_rate=0.3, max_depth=7, n_estimators=200, reg_alpha=0.5, reg_lambda=1, subsample=0.6; total time=   4.9s\n",
      "[CV] END colsample_bytree=0.6, gamma=0.3, learning_rate=0.1, max_depth=5, n_estimators=50, reg_alpha=0, reg_lambda=0.1, subsample=1.0; total time=   2.0s\n",
      "[CV] END colsample_bytree=1.0, gamma=0.1, learning_rate=0.3, max_depth=7, n_estimators=200, reg_alpha=0.5, reg_lambda=1, subsample=0.6; total time=   5.1s\n",
      "[CV] END colsample_bytree=0.6, gamma=0.3, learning_rate=0.1, max_depth=5, n_estimators=50, reg_alpha=0, reg_lambda=0.1, subsample=1.0; total time=   2.0s\n",
      "[CV] END colsample_bytree=0.6, gamma=0.3, learning_rate=0.1, max_depth=5, n_estimators=50, reg_alpha=0, reg_lambda=0.1, subsample=1.0; total time=   2.0s\n",
      "[CV] END colsample_bytree=0.6, gamma=0, learning_rate=0.01, max_depth=3, n_estimators=500, reg_alpha=0.1, reg_lambda=0.1, subsample=0.8; total time=   8.4s\n",
      "[CV] END colsample_bytree=0.6, gamma=0, learning_rate=0.01, max_depth=3, n_estimators=500, reg_alpha=0.1, reg_lambda=0.1, subsample=0.8; total time=   8.1s\n",
      "[CV] END colsample_bytree=1.0, gamma=0.3, learning_rate=0.01, max_depth=7, n_estimators=500, reg_alpha=1, reg_lambda=0.1, subsample=0.6; total time=  42.5s\n",
      "[CV] END colsample_bytree=0.6, gamma=0.2, learning_rate=0.01, max_depth=10, n_estimators=500, reg_alpha=0.5, reg_lambda=0.5, subsample=1.0; total time=  43.3s\n",
      "[CV] END colsample_bytree=1.0, gamma=0.3, learning_rate=0.01, max_depth=7, n_estimators=500, reg_alpha=1, reg_lambda=0.1, subsample=0.6; total time=  43.4s\n",
      "[CV] END colsample_bytree=1.0, gamma=0.3, learning_rate=0.01, max_depth=7, n_estimators=500, reg_alpha=1, reg_lambda=0.1, subsample=0.6; total time=  43.9s\n",
      "[CV] END colsample_bytree=0.6, gamma=0.2, learning_rate=0.01, max_depth=10, n_estimators=500, reg_alpha=0.5, reg_lambda=0.5, subsample=1.0; total time=  44.5s\n",
      "[CV] END colsample_bytree=0.6, gamma=0.2, learning_rate=0.01, max_depth=10, n_estimators=500, reg_alpha=0.5, reg_lambda=0.5, subsample=1.0; total time=  45.0s\n",
      "[CV] END colsample_bytree=1.0, gamma=0, learning_rate=0.3, max_depth=7, n_estimators=100, reg_alpha=0, reg_lambda=0.1, subsample=1.0; total time=   4.7s\n",
      "[CV] END colsample_bytree=1.0, gamma=0, learning_rate=0.3, max_depth=7, n_estimators=100, reg_alpha=0, reg_lambda=0.1, subsample=1.0; total time=   3.4s\n",
      "[CV] END colsample_bytree=1.0, gamma=0, learning_rate=0.3, max_depth=7, n_estimators=100, reg_alpha=0, reg_lambda=0.1, subsample=1.0; total time=   4.7s\n",
      "[CV] END colsample_bytree=0.8, gamma=0.1, learning_rate=0.2, max_depth=5, n_estimators=100, reg_alpha=0.5, reg_lambda=0, subsample=0.6; total time=   2.8s\n",
      "[CV] END colsample_bytree=0.6, gamma=0, learning_rate=0.01, max_depth=3, n_estimators=500, reg_alpha=0.1, reg_lambda=0.1, subsample=0.8; total time=   8.5s\n",
      "[CV] END colsample_bytree=0.6, gamma=0.1, learning_rate=0.2, max_depth=7, n_estimators=500, reg_alpha=0, reg_lambda=0, subsample=1.0; total time=   4.4s\n",
      "[CV] END colsample_bytree=0.8, gamma=0.1, learning_rate=0.2, max_depth=5, n_estimators=100, reg_alpha=0.5, reg_lambda=0, subsample=0.6; total time=   3.8s\n",
      "[CV] END colsample_bytree=0.6, gamma=0.1, learning_rate=0.2, max_depth=7, n_estimators=500, reg_alpha=0, reg_lambda=0, subsample=1.0; total time=   5.6s\n",
      "[CV] END colsample_bytree=0.8, gamma=0.1, learning_rate=0.2, max_depth=5, n_estimators=100, reg_alpha=0.5, reg_lambda=0, subsample=0.6; total time=   2.9s\n",
      "[CV] END colsample_bytree=0.6, gamma=0.1, learning_rate=0.2, max_depth=7, n_estimators=500, reg_alpha=0, reg_lambda=0, subsample=1.0; total time=   6.0s\n",
      "[CV] END colsample_bytree=0.8, gamma=0, learning_rate=0.3, max_depth=10, n_estimators=100, reg_alpha=0.5, reg_lambda=0.5, subsample=0.8; total time=   4.2s\n",
      "[CV] END colsample_bytree=0.8, gamma=0, learning_rate=0.3, max_depth=10, n_estimators=100, reg_alpha=0.5, reg_lambda=0.5, subsample=0.8; total time=   4.5s\n",
      "[CV] END colsample_bytree=0.8, gamma=0, learning_rate=0.3, max_depth=10, n_estimators=100, reg_alpha=0.5, reg_lambda=0.5, subsample=0.8; total time=   5.5s\n",
      "[CV] END colsample_bytree=1.0, gamma=0.2, learning_rate=0.2, max_depth=10, n_estimators=200, reg_alpha=1, reg_lambda=0.5, subsample=1.0; total time=   4.6s\n",
      "[CV] END colsample_bytree=1.0, gamma=0.2, learning_rate=0.2, max_depth=10, n_estimators=200, reg_alpha=1, reg_lambda=0.5, subsample=1.0; total time=   6.1s\n",
      "[CV] END colsample_bytree=1.0, gamma=0.2, learning_rate=0.2, max_depth=10, n_estimators=200, reg_alpha=1, reg_lambda=0.5, subsample=1.0; total time=   5.1s\n",
      "[CV] END colsample_bytree=1.0, gamma=0, learning_rate=0.2, max_depth=7, n_estimators=100, reg_alpha=0, reg_lambda=0, subsample=1.0; total time=   5.2s\n",
      "[CV] END colsample_bytree=1.0, gamma=0, learning_rate=0.2, max_depth=7, n_estimators=50, reg_alpha=0, reg_lambda=0.1, subsample=0.8; total time=   3.6s\n",
      "[CV] END colsample_bytree=1.0, gamma=0, learning_rate=0.2, max_depth=7, n_estimators=100, reg_alpha=0, reg_lambda=0, subsample=1.0; total time=   5.6s\n",
      "[CV] END colsample_bytree=1.0, gamma=0, learning_rate=0.2, max_depth=7, n_estimators=100, reg_alpha=0, reg_lambda=0, subsample=1.0; total time=   5.8s\n",
      "[CV] END colsample_bytree=0.8, gamma=0.1, learning_rate=0.1, max_depth=3, n_estimators=100, reg_alpha=0.5, reg_lambda=0.5, subsample=1.0; total time=   1.8s\n",
      "[CV] END colsample_bytree=1.0, gamma=0, learning_rate=0.2, max_depth=7, n_estimators=50, reg_alpha=0, reg_lambda=0.1, subsample=0.8; total time=   3.6s\n",
      "[CV] END colsample_bytree=0.8, gamma=0.1, learning_rate=0.1, max_depth=3, n_estimators=100, reg_alpha=0.5, reg_lambda=0.5, subsample=1.0; total time=   1.7s\n",
      "[CV] END colsample_bytree=0.8, gamma=0.1, learning_rate=0.1, max_depth=3, n_estimators=100, reg_alpha=0.5, reg_lambda=0.5, subsample=1.0; total time=   1.7s\n",
      "[CV] END colsample_bytree=1.0, gamma=0, learning_rate=0.2, max_depth=7, n_estimators=50, reg_alpha=0, reg_lambda=0.1, subsample=0.8; total time=   3.7s\n",
      "[CV] END colsample_bytree=0.6, gamma=0, learning_rate=0.01, max_depth=3, n_estimators=50, reg_alpha=1, reg_lambda=0.5, subsample=0.8; total time=   0.7s\n",
      "[CV] END colsample_bytree=0.6, gamma=0, learning_rate=0.01, max_depth=3, n_estimators=50, reg_alpha=1, reg_lambda=0.5, subsample=0.8; total time=   0.7s\n",
      "[CV] END colsample_bytree=0.6, gamma=0, learning_rate=0.01, max_depth=3, n_estimators=50, reg_alpha=1, reg_lambda=0.5, subsample=0.8; total time=   1.0s\n",
      "[CV] END colsample_bytree=1.0, gamma=0.2, learning_rate=0.3, max_depth=7, n_estimators=50, reg_alpha=0.5, reg_lambda=1, subsample=0.6; total time=   3.3s\n",
      "[CV] END colsample_bytree=1.0, gamma=0.2, learning_rate=0.3, max_depth=7, n_estimators=50, reg_alpha=0.5, reg_lambda=1, subsample=0.6; total time=   3.3s\n",
      "[CV] END colsample_bytree=1.0, gamma=0.3, learning_rate=0.01, max_depth=7, n_estimators=200, reg_alpha=0.5, reg_lambda=0, subsample=0.8; total time=  19.8s\n",
      "[CV] END colsample_bytree=1.0, gamma=0.3, learning_rate=0.01, max_depth=7, n_estimators=200, reg_alpha=0.5, reg_lambda=0, subsample=0.8; total time=  20.9s\n",
      "[CV] END colsample_bytree=1.0, gamma=0.3, learning_rate=0.01, max_depth=7, n_estimators=200, reg_alpha=0.5, reg_lambda=0, subsample=0.8; total time=  20.1s\n",
      "[CV] END colsample_bytree=1.0, gamma=0.2, learning_rate=0.3, max_depth=7, n_estimators=50, reg_alpha=0.5, reg_lambda=1, subsample=0.6; total time=   3.1s\n",
      "[CV] END colsample_bytree=0.6, gamma=0.1, learning_rate=0.1, max_depth=7, n_estimators=200, reg_alpha=0, reg_lambda=0.1, subsample=0.8; total time=   6.1s\n",
      "[CV] END colsample_bytree=0.6, gamma=0.1, learning_rate=0.1, max_depth=7, n_estimators=200, reg_alpha=0, reg_lambda=0.1, subsample=0.8; total time=   6.3s\n",
      "[CV] END colsample_bytree=1.0, gamma=0, learning_rate=0.1, max_depth=5, n_estimators=200, reg_alpha=1, reg_lambda=1, subsample=0.8; total time=  10.3s\n",
      "[CV] END colsample_bytree=1.0, gamma=0, learning_rate=0.1, max_depth=5, n_estimators=200, reg_alpha=1, reg_lambda=1, subsample=0.8; total time=  10.2s\n",
      "[CV] END colsample_bytree=1.0, gamma=0, learning_rate=0.1, max_depth=5, n_estimators=200, reg_alpha=1, reg_lambda=1, subsample=0.8; total time=  10.2s\n",
      "[CV] END colsample_bytree=0.6, gamma=0, learning_rate=0.3, max_depth=10, n_estimators=200, reg_alpha=1, reg_lambda=0.1, subsample=0.6; total time=   5.5s\n",
      "[CV] END colsample_bytree=0.6, gamma=0.1, learning_rate=0.1, max_depth=7, n_estimators=200, reg_alpha=0, reg_lambda=0.1, subsample=0.8; total time=   6.7s\n",
      "[CV] END colsample_bytree=0.6, gamma=0, learning_rate=0.3, max_depth=10, n_estimators=200, reg_alpha=1, reg_lambda=0.1, subsample=0.6; total time=   5.4s\n",
      "[CV] END colsample_bytree=0.6, gamma=0, learning_rate=0.3, max_depth=10, n_estimators=200, reg_alpha=1, reg_lambda=0.1, subsample=0.6; total time=   5.4s\n",
      "[CV] END colsample_bytree=0.6, gamma=0.1, learning_rate=0.3, max_depth=7, n_estimators=500, reg_alpha=0.1, reg_lambda=0.1, subsample=0.6; total time=   4.6s\n",
      "[CV] END colsample_bytree=0.8, gamma=0.2, learning_rate=0.1, max_depth=10, n_estimators=500, reg_alpha=1, reg_lambda=0.1, subsample=1.0; total time=   9.3s\n",
      "[CV] END colsample_bytree=0.6, gamma=0.1, learning_rate=0.3, max_depth=7, n_estimators=500, reg_alpha=0.1, reg_lambda=0.1, subsample=0.6; total time=   6.1s\n",
      "[CV] END colsample_bytree=0.8, gamma=0.2, learning_rate=0.1, max_depth=10, n_estimators=500, reg_alpha=1, reg_lambda=0.1, subsample=1.0; total time=   9.3s\n",
      "[CV] END colsample_bytree=0.6, gamma=0.1, learning_rate=0.3, max_depth=7, n_estimators=500, reg_alpha=0.1, reg_lambda=0.1, subsample=0.6; total time=   5.0s\n",
      "[CV] END colsample_bytree=0.8, gamma=0.2, learning_rate=0.1, max_depth=10, n_estimators=500, reg_alpha=1, reg_lambda=0.1, subsample=1.0; total time=  10.5s\n",
      "[CV] END colsample_bytree=0.8, gamma=0.3, learning_rate=0.3, max_depth=10, n_estimators=500, reg_alpha=1, reg_lambda=0, subsample=1.0; total time=   4.0s\n",
      "[CV] END colsample_bytree=0.8, gamma=0.3, learning_rate=0.3, max_depth=10, n_estimators=500, reg_alpha=1, reg_lambda=0, subsample=1.0; total time=   4.2s\n",
      "[CV] END colsample_bytree=0.8, gamma=0.3, learning_rate=0.01, max_depth=5, n_estimators=200, reg_alpha=0.5, reg_lambda=0, subsample=1.0; total time=   9.8s\n",
      "[CV] END colsample_bytree=0.8, gamma=0.3, learning_rate=0.01, max_depth=5, n_estimators=200, reg_alpha=0.5, reg_lambda=0, subsample=1.0; total time=  10.3s\n",
      "[CV] END colsample_bytree=0.8, gamma=0.3, learning_rate=0.3, max_depth=10, n_estimators=500, reg_alpha=1, reg_lambda=0, subsample=1.0; total time=   4.2s\n",
      "[CV] END colsample_bytree=0.8, gamma=0.3, learning_rate=0.01, max_depth=5, n_estimators=200, reg_alpha=0.5, reg_lambda=0, subsample=1.0; total time=  10.6s\n",
      "[CV] END colsample_bytree=0.8, gamma=0.2, learning_rate=0.01, max_depth=10, n_estimators=500, reg_alpha=1, reg_lambda=0.5, subsample=0.6; total time=  43.6s\n",
      "[CV] END colsample_bytree=0.8, gamma=0.1, learning_rate=0.1, max_depth=3, n_estimators=500, reg_alpha=1, reg_lambda=0.1, subsample=1.0; total time=   5.7s\n",
      "[CV] END colsample_bytree=1.0, gamma=0, learning_rate=0.2, max_depth=3, n_estimators=100, reg_alpha=0.1, reg_lambda=0.5, subsample=0.8; total time=   1.6s\n",
      "[CV] END colsample_bytree=1.0, gamma=0, learning_rate=0.2, max_depth=3, n_estimators=100, reg_alpha=0.1, reg_lambda=0.5, subsample=0.8; total time=   1.7s\n",
      "[CV] END colsample_bytree=0.8, gamma=0.1, learning_rate=0.1, max_depth=3, n_estimators=500, reg_alpha=1, reg_lambda=0.1, subsample=1.0; total time=   8.1s\n",
      "[CV] END colsample_bytree=0.8, gamma=0.2, learning_rate=0.01, max_depth=10, n_estimators=500, reg_alpha=1, reg_lambda=0.5, subsample=0.6; total time=  49.3s\n",
      "[CV] END colsample_bytree=1.0, gamma=0, learning_rate=0.2, max_depth=3, n_estimators=100, reg_alpha=0.1, reg_lambda=0.5, subsample=0.8; total time=   1.7s\n",
      "[CV] END colsample_bytree=0.8, gamma=0.1, learning_rate=0.1, max_depth=3, n_estimators=500, reg_alpha=1, reg_lambda=0.1, subsample=1.0; total time=   5.7s\n",
      "[CV] END colsample_bytree=0.8, gamma=0.2, learning_rate=0.01, max_depth=10, n_estimators=500, reg_alpha=1, reg_lambda=0.5, subsample=0.6; total time=  49.5s\n",
      "[CV] END colsample_bytree=0.8, gamma=0.2, learning_rate=0.01, max_depth=5, n_estimators=500, reg_alpha=0.1, reg_lambda=1, subsample=0.8; total time=  18.4s\n",
      "[CV] END colsample_bytree=0.6, gamma=0.2, learning_rate=0.01, max_depth=3, n_estimators=500, reg_alpha=0.1, reg_lambda=1, subsample=0.6; total time=   6.2s\n",
      "[CV] END colsample_bytree=0.8, gamma=0.1, learning_rate=0.01, max_depth=5, n_estimators=200, reg_alpha=0, reg_lambda=0, subsample=1.0; total time=   7.8s\n",
      "[CV] END colsample_bytree=0.6, gamma=0.2, learning_rate=0.01, max_depth=3, n_estimators=500, reg_alpha=0.1, reg_lambda=1, subsample=0.6; total time=   8.5s\n",
      "[CV] END colsample_bytree=0.8, gamma=0.1, learning_rate=0.01, max_depth=5, n_estimators=200, reg_alpha=0, reg_lambda=0, subsample=1.0; total time=  10.7s\n",
      "[CV] END colsample_bytree=0.6, gamma=0.2, learning_rate=0.01, max_depth=3, n_estimators=500, reg_alpha=0.1, reg_lambda=1, subsample=0.6; total time=   5.9s\n",
      "[CV] END colsample_bytree=0.8, gamma=0.2, learning_rate=0.2, max_depth=5, n_estimators=200, reg_alpha=0.5, reg_lambda=0, subsample=0.6; total time=   3.5s\n",
      "[CV] END colsample_bytree=0.8, gamma=0.1, learning_rate=0.01, max_depth=5, n_estimators=200, reg_alpha=0, reg_lambda=0, subsample=1.0; total time=  10.6s\n",
      "[CV] END colsample_bytree=0.8, gamma=0.2, learning_rate=0.2, max_depth=5, n_estimators=200, reg_alpha=0.5, reg_lambda=0, subsample=0.6; total time=   3.4s\n",
      "[CV] END colsample_bytree=0.8, gamma=0.2, learning_rate=0.01, max_depth=5, n_estimators=500, reg_alpha=0.1, reg_lambda=1, subsample=0.8; total time=  24.9s\n",
      "[CV] END colsample_bytree=0.8, gamma=0.2, learning_rate=0.01, max_depth=5, n_estimators=500, reg_alpha=0.1, reg_lambda=1, subsample=0.8; total time=  24.9s\n",
      "[CV] END colsample_bytree=0.6, gamma=0.2, learning_rate=0.2, max_depth=7, n_estimators=50, reg_alpha=0.1, reg_lambda=0.5, subsample=0.6; total time=   2.7s\n",
      "[CV] END colsample_bytree=0.8, gamma=0.2, learning_rate=0.2, max_depth=5, n_estimators=200, reg_alpha=0.5, reg_lambda=0, subsample=0.6; total time=   4.7s\n",
      "[CV] END colsample_bytree=0.6, gamma=0.2, learning_rate=0.2, max_depth=7, n_estimators=50, reg_alpha=0.1, reg_lambda=0.5, subsample=0.6; total time=   2.3s\n",
      "[CV] END colsample_bytree=0.6, gamma=0.2, learning_rate=0.2, max_depth=7, n_estimators=50, reg_alpha=0.1, reg_lambda=0.5, subsample=0.6; total time=   3.0s\n",
      "[CV] END colsample_bytree=1.0, gamma=0.2, learning_rate=0.1, max_depth=5, n_estimators=200, reg_alpha=1, reg_lambda=0.5, subsample=0.8; total time=   6.9s\n",
      "[CV] END colsample_bytree=1.0, gamma=0.2, learning_rate=0.1, max_depth=5, n_estimators=200, reg_alpha=1, reg_lambda=0.5, subsample=0.8; total time=   7.2s\n",
      "[CV] END colsample_bytree=0.8, gamma=0.1, learning_rate=0.2, max_depth=7, n_estimators=200, reg_alpha=0.5, reg_lambda=0.1, subsample=0.8; total time=   4.9s\n",
      "[CV] END colsample_bytree=1.0, gamma=0.2, learning_rate=0.1, max_depth=5, n_estimators=200, reg_alpha=1, reg_lambda=0.5, subsample=0.8; total time=   8.2s\n",
      "[CV] END colsample_bytree=0.8, gamma=0.1, learning_rate=0.2, max_depth=7, n_estimators=200, reg_alpha=0.5, reg_lambda=0.1, subsample=0.8; total time=   5.2s\n",
      "[CV] END colsample_bytree=0.8, gamma=0.1, learning_rate=0.2, max_depth=7, n_estimators=200, reg_alpha=0.5, reg_lambda=0.1, subsample=0.8; total time=   5.0s\n",
      "[CV] END colsample_bytree=0.6, gamma=0.3, learning_rate=0.2, max_depth=5, n_estimators=100, reg_alpha=0, reg_lambda=0.1, subsample=1.0; total time=   2.5s\n",
      "[CV] END colsample_bytree=0.6, gamma=0.3, learning_rate=0.2, max_depth=5, n_estimators=100, reg_alpha=0, reg_lambda=0.1, subsample=1.0; total time=   2.4s\n",
      "[CV] END colsample_bytree=0.6, gamma=0.3, learning_rate=0.2, max_depth=5, n_estimators=100, reg_alpha=0, reg_lambda=0.1, subsample=1.0; total time=   2.3s\n",
      "[CV] END colsample_bytree=1.0, gamma=0, learning_rate=0.01, max_depth=7, n_estimators=100, reg_alpha=0.5, reg_lambda=0, subsample=1.0; total time=  11.5s\n",
      "[CV] END colsample_bytree=0.6, gamma=0, learning_rate=0.2, max_depth=5, n_estimators=500, reg_alpha=1, reg_lambda=0, subsample=0.6; total time=   8.3s\n",
      "[CV] END colsample_bytree=0.6, gamma=0, learning_rate=0.2, max_depth=5, n_estimators=500, reg_alpha=1, reg_lambda=0, subsample=0.6; total time=   7.8s\n",
      "[CV] END colsample_bytree=0.6, gamma=0, learning_rate=0.2, max_depth=5, n_estimators=500, reg_alpha=1, reg_lambda=0, subsample=0.6; total time=   8.0s\n",
      "[CV] END colsample_bytree=1.0, gamma=0.1, learning_rate=0.3, max_depth=7, n_estimators=500, reg_alpha=0, reg_lambda=0, subsample=1.0; total time=   5.4s\n",
      "[CV] END colsample_bytree=1.0, gamma=0, learning_rate=0.01, max_depth=7, n_estimators=100, reg_alpha=0.5, reg_lambda=0, subsample=1.0; total time=  11.4s\n",
      "[CV] END colsample_bytree=1.0, gamma=0, learning_rate=0.01, max_depth=7, n_estimators=100, reg_alpha=0.5, reg_lambda=0, subsample=1.0; total time=  11.2s\n",
      "[CV] END colsample_bytree=1.0, gamma=0.1, learning_rate=0.3, max_depth=7, n_estimators=500, reg_alpha=0, reg_lambda=0, subsample=1.0; total time=   5.5s\n",
      "[CV] END colsample_bytree=0.6, gamma=0.2, learning_rate=0.01, max_depth=7, n_estimators=50, reg_alpha=1, reg_lambda=1, subsample=0.6; total time=   3.5s\n",
      "[CV] END colsample_bytree=0.6, gamma=0.2, learning_rate=0.01, max_depth=7, n_estimators=50, reg_alpha=1, reg_lambda=1, subsample=0.6; total time=   3.4s\n",
      "[CV] END colsample_bytree=0.6, gamma=0.2, learning_rate=0.01, max_depth=7, n_estimators=50, reg_alpha=1, reg_lambda=1, subsample=0.6; total time=   3.5s\n",
      "[CV] END colsample_bytree=0.6, gamma=0.2, learning_rate=0.1, max_depth=5, n_estimators=50, reg_alpha=0.1, reg_lambda=1, subsample=0.8; total time=   1.7s\n",
      "[CV] END colsample_bytree=0.8, gamma=0.2, learning_rate=0.3, max_depth=3, n_estimators=50, reg_alpha=0.1, reg_lambda=0.5, subsample=0.6; total time=   1.1s\n",
      "[CV] END colsample_bytree=0.8, gamma=0.2, learning_rate=0.3, max_depth=3, n_estimators=50, reg_alpha=0.1, reg_lambda=0.5, subsample=0.6; total time=   0.7s\n",
      "[CV] END colsample_bytree=0.6, gamma=0.3, learning_rate=0.1, max_depth=10, n_estimators=50, reg_alpha=0.1, reg_lambda=0.1, subsample=0.8; total time=   4.1s\n",
      "[CV] END colsample_bytree=0.6, gamma=0.2, learning_rate=0.1, max_depth=5, n_estimators=50, reg_alpha=0.1, reg_lambda=1, subsample=0.8; total time=   2.0s\n",
      "[CV] END colsample_bytree=0.6, gamma=0.2, learning_rate=0.1, max_depth=5, n_estimators=50, reg_alpha=0.1, reg_lambda=1, subsample=0.8; total time=   2.1s\n",
      "[CV] END colsample_bytree=1.0, gamma=0.1, learning_rate=0.3, max_depth=7, n_estimators=500, reg_alpha=0, reg_lambda=0, subsample=1.0; total time=   5.8s\n",
      "[CV] END colsample_bytree=0.8, gamma=0.2, learning_rate=0.3, max_depth=3, n_estimators=50, reg_alpha=0.1, reg_lambda=0.5, subsample=0.6; total time=   1.1s\n",
      "[CV] END colsample_bytree=0.6, gamma=0.3, learning_rate=0.1, max_depth=10, n_estimators=50, reg_alpha=0.1, reg_lambda=0.1, subsample=0.8; total time=   4.5s\n",
      "[CV] END colsample_bytree=0.6, gamma=0.3, learning_rate=0.1, max_depth=10, n_estimators=50, reg_alpha=0.1, reg_lambda=0.1, subsample=0.8; total time=   4.0s\n",
      "[CV] END colsample_bytree=0.6, gamma=0.3, learning_rate=0.1, max_depth=5, n_estimators=500, reg_alpha=0.1, reg_lambda=0, subsample=1.0; total time=   5.3s\n",
      "[CV] END colsample_bytree=0.6, gamma=0.3, learning_rate=0.1, max_depth=5, n_estimators=500, reg_alpha=0.1, reg_lambda=0, subsample=1.0; total time=   5.2s\n",
      "[CV] END colsample_bytree=1.0, gamma=0.1, learning_rate=0.1, max_depth=5, n_estimators=500, reg_alpha=0, reg_lambda=1, subsample=0.8; total time=   9.5s\n",
      "[CV] END colsample_bytree=1.0, gamma=0.1, learning_rate=0.1, max_depth=5, n_estimators=500, reg_alpha=0, reg_lambda=1, subsample=0.8; total time=   9.5s\n",
      "[CV] END colsample_bytree=1.0, gamma=0.3, learning_rate=0.2, max_depth=3, n_estimators=200, reg_alpha=0.5, reg_lambda=0.5, subsample=0.8; total time=   3.1s\n",
      "[CV] END colsample_bytree=0.6, gamma=0.3, learning_rate=0.1, max_depth=5, n_estimators=500, reg_alpha=0.1, reg_lambda=0, subsample=1.0; total time=   5.3s\n",
      "[CV] END colsample_bytree=1.0, gamma=0.3, learning_rate=0.2, max_depth=3, n_estimators=200, reg_alpha=0.5, reg_lambda=0.5, subsample=0.8; total time=   3.1s\n",
      "[CV] END colsample_bytree=0.8, gamma=0.1, learning_rate=0.3, max_depth=3, n_estimators=200, reg_alpha=0, reg_lambda=0.5, subsample=0.8; total time=   2.8s\n",
      "[CV] END colsample_bytree=1.0, gamma=0.3, learning_rate=0.2, max_depth=3, n_estimators=200, reg_alpha=0.5, reg_lambda=0.5, subsample=0.8; total time=   3.0s\n",
      "[CV] END colsample_bytree=1.0, gamma=0.1, learning_rate=0.1, max_depth=5, n_estimators=500, reg_alpha=0, reg_lambda=1, subsample=0.8; total time=  13.2s\n",
      "[CV] END colsample_bytree=0.8, gamma=0.1, learning_rate=0.3, max_depth=3, n_estimators=200, reg_alpha=0, reg_lambda=0.5, subsample=0.8; total time=   2.8s\n",
      "[CV] END colsample_bytree=0.8, gamma=0.1, learning_rate=0.3, max_depth=3, n_estimators=200, reg_alpha=0, reg_lambda=0.5, subsample=0.8; total time=   2.6s\n",
      "[CV] END colsample_bytree=1.0, gamma=0.2, learning_rate=0.3, max_depth=10, n_estimators=200, reg_alpha=0.1, reg_lambda=0.5, subsample=0.8; total time=   3.4s\n",
      "[CV] END colsample_bytree=1.0, gamma=0.2, learning_rate=0.3, max_depth=10, n_estimators=200, reg_alpha=0.1, reg_lambda=0.5, subsample=0.8; total time=   3.3s\n",
      "[CV] END colsample_bytree=0.8, gamma=0.2, learning_rate=0.1, max_depth=7, n_estimators=200, reg_alpha=0.5, reg_lambda=0, subsample=0.8; total time=   6.0s\n",
      "[CV] END colsample_bytree=0.8, gamma=0.2, learning_rate=0.1, max_depth=7, n_estimators=200, reg_alpha=0.5, reg_lambda=0, subsample=0.8; total time=   6.0s\n",
      "[CV] END colsample_bytree=1.0, gamma=0.2, learning_rate=0.3, max_depth=10, n_estimators=200, reg_alpha=0.1, reg_lambda=0.5, subsample=0.8; total time=   3.3s\n",
      "[CV] END colsample_bytree=1.0, gamma=0, learning_rate=0.2, max_depth=3, n_estimators=200, reg_alpha=1, reg_lambda=0, subsample=1.0; total time=   3.1s\n",
      "[CV] END colsample_bytree=1.0, gamma=0, learning_rate=0.2, max_depth=3, n_estimators=200, reg_alpha=1, reg_lambda=0, subsample=1.0; total time=   3.1s\n",
      "[CV] END colsample_bytree=1.0, gamma=0, learning_rate=0.2, max_depth=3, n_estimators=200, reg_alpha=1, reg_lambda=0, subsample=1.0; total time=   3.1s\n",
      "[CV] END colsample_bytree=0.8, gamma=0.2, learning_rate=0.1, max_depth=7, n_estimators=200, reg_alpha=0.5, reg_lambda=0, subsample=0.8; total time=   8.8s\n",
      "[CV] END colsample_bytree=0.8, gamma=0.1, learning_rate=0.1, max_depth=5, n_estimators=100, reg_alpha=0.1, reg_lambda=0.5, subsample=0.8; total time=   3.3s\n",
      "[CV] END colsample_bytree=0.8, gamma=0.1, learning_rate=0.1, max_depth=5, n_estimators=100, reg_alpha=0.1, reg_lambda=0.5, subsample=0.8; total time=   3.3s\n",
      "[CV] END colsample_bytree=0.8, gamma=0.1, learning_rate=0.1, max_depth=5, n_estimators=100, reg_alpha=0.1, reg_lambda=0.5, subsample=0.8; total time=   3.3s\n",
      "[CV] END colsample_bytree=1.0, gamma=0.3, learning_rate=0.01, max_depth=3, n_estimators=200, reg_alpha=0.5, reg_lambda=0.5, subsample=1.0; total time=   3.4s\n",
      "[CV] END colsample_bytree=0.8, gamma=0.3, learning_rate=0.2, max_depth=7, n_estimators=50, reg_alpha=0.5, reg_lambda=0.1, subsample=0.8; total time=   2.4s\n",
      "[CV] END colsample_bytree=0.8, gamma=0.3, learning_rate=0.2, max_depth=7, n_estimators=50, reg_alpha=0.5, reg_lambda=0.1, subsample=0.8; total time=   2.4s\n",
      "[CV] END colsample_bytree=0.8, gamma=0.3, learning_rate=0.2, max_depth=7, n_estimators=50, reg_alpha=0.5, reg_lambda=0.1, subsample=0.8; total time=   2.4s\n",
      "[CV] END colsample_bytree=1.0, gamma=0.3, learning_rate=0.01, max_depth=3, n_estimators=200, reg_alpha=0.5, reg_lambda=0.5, subsample=1.0; total time=   5.3s\n",
      "[CV] END colsample_bytree=1.0, gamma=0.3, learning_rate=0.01, max_depth=3, n_estimators=200, reg_alpha=0.5, reg_lambda=0.5, subsample=1.0; total time=   3.4s\n",
      "[CV] END colsample_bytree=1.0, gamma=0, learning_rate=0.01, max_depth=5, n_estimators=500, reg_alpha=0.1, reg_lambda=0, subsample=0.8; total time=  31.1s\n",
      "[CV] END colsample_bytree=1.0, gamma=0, learning_rate=0.01, max_depth=5, n_estimators=500, reg_alpha=0.1, reg_lambda=0, subsample=0.8; total time=  31.1s\n",
      "[CV] END colsample_bytree=1.0, gamma=0, learning_rate=0.01, max_depth=5, n_estimators=500, reg_alpha=0.1, reg_lambda=0, subsample=0.8; total time=  31.8s\n",
      "[CV] END colsample_bytree=0.8, gamma=0.1, learning_rate=0.2, max_depth=3, n_estimators=50, reg_alpha=0.5, reg_lambda=0, subsample=0.8; total time=   1.2s\n",
      "[CV] END colsample_bytree=0.8, gamma=0.1, learning_rate=0.2, max_depth=3, n_estimators=50, reg_alpha=0.5, reg_lambda=0, subsample=0.8; total time=   1.1s\n",
      "[CV] END colsample_bytree=0.8, gamma=0.1, learning_rate=0.2, max_depth=3, n_estimators=50, reg_alpha=0.5, reg_lambda=0, subsample=0.8; total time=   1.1s\n",
      "[CV] END colsample_bytree=0.8, gamma=0.3, learning_rate=0.01, max_depth=5, n_estimators=200, reg_alpha=0.5, reg_lambda=1, subsample=0.6; total time=   7.3s\n",
      "[CV] END colsample_bytree=0.8, gamma=0.3, learning_rate=0.01, max_depth=5, n_estimators=200, reg_alpha=0.5, reg_lambda=1, subsample=0.6; total time=  10.4s\n",
      "[CV] END colsample_bytree=1.0, gamma=0, learning_rate=0.1, max_depth=10, n_estimators=500, reg_alpha=0, reg_lambda=0.5, subsample=0.8; total time=  13.7s\n",
      "[CV] END colsample_bytree=1.0, gamma=0, learning_rate=0.1, max_depth=10, n_estimators=500, reg_alpha=0, reg_lambda=0.5, subsample=0.8; total time=  13.9s\n",
      "[CV] END colsample_bytree=1.0, gamma=0, learning_rate=0.1, max_depth=10, n_estimators=500, reg_alpha=0, reg_lambda=0.5, subsample=0.8; total time=  13.9s\n",
      "[CV] END colsample_bytree=0.8, gamma=0.3, learning_rate=0.01, max_depth=5, n_estimators=200, reg_alpha=0.5, reg_lambda=1, subsample=0.6; total time=  10.8s\n",
      "[CV] END colsample_bytree=0.8, gamma=0, learning_rate=0.2, max_depth=5, n_estimators=500, reg_alpha=0.5, reg_lambda=0, subsample=0.6; total time=   7.3s\n",
      "[CV] END colsample_bytree=0.8, gamma=0, learning_rate=0.2, max_depth=5, n_estimators=500, reg_alpha=0.5, reg_lambda=0, subsample=0.6; total time=  11.1s\n",
      "[CV] END colsample_bytree=0.8, gamma=0.2, learning_rate=0.2, max_depth=7, n_estimators=100, reg_alpha=0.5, reg_lambda=1, subsample=0.8; total time=   3.2s\n",
      "[CV] END colsample_bytree=1.0, gamma=0.2, learning_rate=0.3, max_depth=5, n_estimators=500, reg_alpha=0.1, reg_lambda=1, subsample=0.8; total time=   6.7s\n",
      "[CV] END colsample_bytree=0.8, gamma=0, learning_rate=0.2, max_depth=5, n_estimators=500, reg_alpha=0.5, reg_lambda=0, subsample=0.6; total time=  11.2s\n",
      "[CV] END colsample_bytree=0.8, gamma=0.2, learning_rate=0.2, max_depth=7, n_estimators=100, reg_alpha=0.5, reg_lambda=1, subsample=0.8; total time=   3.2s\n",
      "[CV] END colsample_bytree=1.0, gamma=0.2, learning_rate=0.3, max_depth=5, n_estimators=500, reg_alpha=0.1, reg_lambda=1, subsample=0.8; total time=   4.6s\n",
      "[CV] END colsample_bytree=1.0, gamma=0.2, learning_rate=0.3, max_depth=5, n_estimators=500, reg_alpha=0.1, reg_lambda=1, subsample=0.8; total time=   4.6s\n",
      "[CV] END colsample_bytree=0.8, gamma=0.2, learning_rate=0.2, max_depth=7, n_estimators=100, reg_alpha=0.5, reg_lambda=1, subsample=0.8; total time=   4.6s\n",
      "[CV] END colsample_bytree=1.0, gamma=0, learning_rate=0.2, max_depth=5, n_estimators=50, reg_alpha=0.5, reg_lambda=0, subsample=1.0; total time=   2.6s\n",
      "[CV] END colsample_bytree=1.0, gamma=0, learning_rate=0.2, max_depth=5, n_estimators=50, reg_alpha=0.5, reg_lambda=0, subsample=1.0; total time=   2.6s\n",
      "[CV] END colsample_bytree=1.0, gamma=0, learning_rate=0.3, max_depth=7, n_estimators=200, reg_alpha=0.1, reg_lambda=0.1, subsample=0.6; total time=   5.2s\n",
      "[CV] END colsample_bytree=1.0, gamma=0, learning_rate=0.3, max_depth=7, n_estimators=200, reg_alpha=0.1, reg_lambda=0.1, subsample=0.6; total time=   5.3s\n",
      "[CV] END colsample_bytree=1.0, gamma=0, learning_rate=0.3, max_depth=7, n_estimators=200, reg_alpha=0.1, reg_lambda=0.1, subsample=0.6; total time=   5.7s\n",
      "[CV] END colsample_bytree=1.0, gamma=0, learning_rate=0.2, max_depth=5, n_estimators=50, reg_alpha=0.5, reg_lambda=0, subsample=1.0; total time=   2.6s\n",
      "[CV] END colsample_bytree=0.6, gamma=0.3, learning_rate=0.01, max_depth=7, n_estimators=100, reg_alpha=0.1, reg_lambda=0, subsample=0.8; total time=   7.0s\n",
      "[CV] END colsample_bytree=1.0, gamma=0.2, learning_rate=0.3, max_depth=5, n_estimators=100, reg_alpha=0, reg_lambda=1, subsample=1.0; total time=   2.7s\n",
      "[CV] END colsample_bytree=0.6, gamma=0.3, learning_rate=0.01, max_depth=7, n_estimators=100, reg_alpha=0.1, reg_lambda=0, subsample=0.8; total time=   6.8s\n",
      "[CV] END colsample_bytree=1.0, gamma=0.2, learning_rate=0.3, max_depth=5, n_estimators=100, reg_alpha=0, reg_lambda=1, subsample=1.0; total time=   2.6s\n",
      "[CV] END colsample_bytree=1.0, gamma=0.2, learning_rate=0.3, max_depth=5, n_estimators=100, reg_alpha=0, reg_lambda=1, subsample=1.0; total time=   2.7s\n",
      "[CV] END colsample_bytree=0.8, gamma=0.1, learning_rate=0.3, max_depth=3, n_estimators=200, reg_alpha=0.1, reg_lambda=0.1, subsample=0.8; total time=   2.8s\n",
      "[CV] END colsample_bytree=0.6, gamma=0.3, learning_rate=0.01, max_depth=7, n_estimators=100, reg_alpha=0.1, reg_lambda=0, subsample=0.8; total time=   8.0s\n",
      "[CV] END colsample_bytree=0.6, gamma=0.3, learning_rate=0.2, max_depth=5, n_estimators=50, reg_alpha=0.5, reg_lambda=0.5, subsample=0.8; total time=   1.4s\n",
      "[CV] END colsample_bytree=0.6, gamma=0.3, learning_rate=0.2, max_depth=5, n_estimators=50, reg_alpha=0.5, reg_lambda=0.5, subsample=0.8; total time=   1.8s\n",
      "[CV] END colsample_bytree=0.6, gamma=0.3, learning_rate=0.2, max_depth=5, n_estimators=50, reg_alpha=0.5, reg_lambda=0.5, subsample=0.8; total time=   1.9s\n",
      "[CV] END colsample_bytree=0.8, gamma=0.1, learning_rate=0.3, max_depth=3, n_estimators=200, reg_alpha=0.1, reg_lambda=0.1, subsample=0.8; total time=   3.5s\n",
      "[CV] END colsample_bytree=0.8, gamma=0.1, learning_rate=0.3, max_depth=3, n_estimators=200, reg_alpha=0.1, reg_lambda=0.1, subsample=0.8; total time=   2.5s\n",
      "[CV] END colsample_bytree=1.0, gamma=0.3, learning_rate=0.3, max_depth=3, n_estimators=200, reg_alpha=0.1, reg_lambda=0.1, subsample=1.0; total time=   2.4s\n",
      "[CV] END colsample_bytree=1.0, gamma=0.3, learning_rate=0.3, max_depth=3, n_estimators=200, reg_alpha=0.1, reg_lambda=0.1, subsample=1.0; total time=   2.8s\n",
      "[CV] END colsample_bytree=1.0, gamma=0.3, learning_rate=0.3, max_depth=3, n_estimators=200, reg_alpha=0.1, reg_lambda=0.1, subsample=1.0; total time=   3.1s\n",
      "[CV] END colsample_bytree=0.6, gamma=0, learning_rate=0.3, max_depth=7, n_estimators=500, reg_alpha=0, reg_lambda=0.1, subsample=0.8; total time=   6.8s\n",
      "[CV] END colsample_bytree=0.6, gamma=0, learning_rate=0.3, max_depth=7, n_estimators=500, reg_alpha=0, reg_lambda=0.1, subsample=0.8; total time=   7.0s\n",
      "[CV] END colsample_bytree=0.6, gamma=0, learning_rate=0.3, max_depth=7, n_estimators=500, reg_alpha=0, reg_lambda=0.1, subsample=0.8; total time=   7.4s\n",
      "[CV] END colsample_bytree=0.8, gamma=0.1, learning_rate=0.01, max_depth=10, n_estimators=50, reg_alpha=1, reg_lambda=1, subsample=0.8; total time=   6.8s\n",
      "[CV] END colsample_bytree=1.0, gamma=0.1, learning_rate=0.01, max_depth=10, n_estimators=100, reg_alpha=1, reg_lambda=0.1, subsample=0.6; total time=  13.2s\n",
      "[CV] END colsample_bytree=0.8, gamma=0.1, learning_rate=0.01, max_depth=10, n_estimators=50, reg_alpha=1, reg_lambda=1, subsample=0.8; total time=   6.6s\n",
      "[CV] END colsample_bytree=1.0, gamma=0.1, learning_rate=0.01, max_depth=10, n_estimators=100, reg_alpha=1, reg_lambda=0.1, subsample=0.6; total time=  13.9s\n",
      "[CV] END colsample_bytree=0.6, gamma=0.1, learning_rate=0.1, max_depth=3, n_estimators=200, reg_alpha=0.1, reg_lambda=0.5, subsample=0.6; total time=   3.5s\n",
      "[CV] END colsample_bytree=0.6, gamma=0.1, learning_rate=0.1, max_depth=3, n_estimators=200, reg_alpha=0.1, reg_lambda=0.5, subsample=0.6; total time=   2.4s\n",
      "[CV] END colsample_bytree=0.6, gamma=0.1, learning_rate=0.1, max_depth=3, n_estimators=200, reg_alpha=0.1, reg_lambda=0.5, subsample=0.6; total time=   3.8s\n",
      "[CV] END colsample_bytree=0.8, gamma=0.1, learning_rate=0.01, max_depth=10, n_estimators=50, reg_alpha=1, reg_lambda=1, subsample=0.8; total time=   6.1s\n",
      "[CV] END colsample_bytree=1.0, gamma=0.1, learning_rate=0.01, max_depth=10, n_estimators=100, reg_alpha=1, reg_lambda=0.1, subsample=0.6; total time=  14.4s\n",
      "[CV] END colsample_bytree=1.0, gamma=0.1, learning_rate=0.1, max_depth=5, n_estimators=100, reg_alpha=0.5, reg_lambda=0, subsample=1.0; total time=   4.6s\n",
      "[CV] END colsample_bytree=1.0, gamma=0.1, learning_rate=0.1, max_depth=5, n_estimators=100, reg_alpha=0.5, reg_lambda=0, subsample=1.0; total time=   5.5s\n",
      "[CV] END colsample_bytree=1.0, gamma=0.1, learning_rate=0.1, max_depth=5, n_estimators=100, reg_alpha=0.5, reg_lambda=0, subsample=1.0; total time=   5.7s\n",
      "[CV] END colsample_bytree=0.6, gamma=0.2, learning_rate=0.01, max_depth=3, n_estimators=100, reg_alpha=0.5, reg_lambda=0.5, subsample=0.8; total time=   1.5s\n",
      "[CV] END colsample_bytree=0.6, gamma=0.2, learning_rate=0.01, max_depth=3, n_estimators=100, reg_alpha=0.5, reg_lambda=0.5, subsample=0.8; total time=   1.7s\n",
      "[CV] END colsample_bytree=0.6, gamma=0.2, learning_rate=0.01, max_depth=3, n_estimators=100, reg_alpha=0.5, reg_lambda=0.5, subsample=0.8; total time=   1.7s\n",
      "[CV] END colsample_bytree=0.6, gamma=0.2, learning_rate=0.01, max_depth=7, n_estimators=500, reg_alpha=1, reg_lambda=0, subsample=0.8; total time=  30.4s\n",
      "[CV] END colsample_bytree=0.6, gamma=0.2, learning_rate=0.01, max_depth=7, n_estimators=500, reg_alpha=1, reg_lambda=0, subsample=0.8; total time=  31.4s\n",
      "[CV] END colsample_bytree=0.6, gamma=0.2, learning_rate=0.01, max_depth=7, n_estimators=500, reg_alpha=1, reg_lambda=0, subsample=0.8; total time=  30.7s\n",
      "[CV] END colsample_bytree=0.8, gamma=0.2, learning_rate=0.2, max_depth=5, n_estimators=100, reg_alpha=0.5, reg_lambda=0, subsample=1.0; total time=   3.0s\n",
      "[CV] END colsample_bytree=0.8, gamma=0.2, learning_rate=0.2, max_depth=5, n_estimators=100, reg_alpha=0.5, reg_lambda=0, subsample=1.0; total time=   3.8s\n",
      "[CV] END colsample_bytree=0.8, gamma=0.2, learning_rate=0.2, max_depth=5, n_estimators=100, reg_alpha=0.5, reg_lambda=0, subsample=1.0; total time=   3.5s\n",
      "[CV] END colsample_bytree=0.8, gamma=0.2, learning_rate=0.01, max_depth=10, n_estimators=100, reg_alpha=0.1, reg_lambda=0.1, subsample=1.0; total time=  16.6s\n",
      "[CV] END colsample_bytree=0.6, gamma=0, learning_rate=0.1, max_depth=10, n_estimators=100, reg_alpha=0.5, reg_lambda=0, subsample=0.8; total time=   8.2s\n",
      "[CV] END colsample_bytree=0.6, gamma=0, learning_rate=0.1, max_depth=10, n_estimators=100, reg_alpha=0.5, reg_lambda=0, subsample=0.8; total time=   8.2s\n",
      "[CV] END colsample_bytree=0.8, gamma=0.2, learning_rate=0.01, max_depth=10, n_estimators=100, reg_alpha=0.1, reg_lambda=0.1, subsample=1.0; total time=  16.9s\n",
      "[CV] END colsample_bytree=0.6, gamma=0, learning_rate=0.1, max_depth=10, n_estimators=100, reg_alpha=0.5, reg_lambda=0, subsample=0.8; total time=   8.4s\n",
      "[CV] END colsample_bytree=0.6, gamma=0.2, learning_rate=0.1, max_depth=5, n_estimators=50, reg_alpha=0.1, reg_lambda=0, subsample=1.0; total time=   2.0s\n",
      "[CV] END colsample_bytree=0.8, gamma=0.2, learning_rate=0.01, max_depth=10, n_estimators=100, reg_alpha=0.1, reg_lambda=0.1, subsample=1.0; total time=  16.8s\n",
      "[CV] END colsample_bytree=1.0, gamma=0.1, learning_rate=0.1, max_depth=10, n_estimators=100, reg_alpha=0.5, reg_lambda=1, subsample=0.6; total time=   9.4s\n",
      "[CV] END colsample_bytree=1.0, gamma=0.1, learning_rate=0.1, max_depth=10, n_estimators=100, reg_alpha=0.5, reg_lambda=1, subsample=0.6; total time=   9.3s\n",
      "[CV] END colsample_bytree=0.6, gamma=0.2, learning_rate=0.1, max_depth=5, n_estimators=50, reg_alpha=0.1, reg_lambda=0, subsample=1.0; total time=   1.8s\n",
      "[CV] END colsample_bytree=0.6, gamma=0.2, learning_rate=0.1, max_depth=5, n_estimators=50, reg_alpha=0.1, reg_lambda=0, subsample=1.0; total time=   1.6s\n",
      "[CV] END colsample_bytree=0.6, gamma=0.1, learning_rate=0.1, max_depth=7, n_estimators=200, reg_alpha=0, reg_lambda=0.5, subsample=0.6; total time=   6.8s\n",
      "[CV] END colsample_bytree=0.6, gamma=0.1, learning_rate=0.1, max_depth=7, n_estimators=200, reg_alpha=0, reg_lambda=0.5, subsample=0.6; total time=   7.3s\n",
      "[CV] END colsample_bytree=0.6, gamma=0.1, learning_rate=0.1, max_depth=7, n_estimators=200, reg_alpha=0, reg_lambda=0.5, subsample=0.6; total time=   7.3s\n",
      "[CV] END colsample_bytree=1.0, gamma=0.1, learning_rate=0.1, max_depth=10, n_estimators=100, reg_alpha=0.5, reg_lambda=1, subsample=0.6; total time=   9.0s\n",
      "[CV] END colsample_bytree=0.6, gamma=0.3, learning_rate=0.1, max_depth=7, n_estimators=500, reg_alpha=0.5, reg_lambda=0.5, subsample=0.8; total time=   7.7s\n",
      "[CV] END colsample_bytree=0.6, gamma=0.3, learning_rate=0.1, max_depth=7, n_estimators=500, reg_alpha=0.5, reg_lambda=0.5, subsample=0.8; total time=   7.8s\n",
      "[CV] END colsample_bytree=0.6, gamma=0.3, learning_rate=0.1, max_depth=7, n_estimators=500, reg_alpha=0.5, reg_lambda=0.5, subsample=0.8; total time=   7.8s\n",
      "[CV] END colsample_bytree=1.0, gamma=0, learning_rate=0.3, max_depth=3, n_estimators=500, reg_alpha=0.1, reg_lambda=0, subsample=0.8; total time=   8.5s\n",
      "[CV] END colsample_bytree=1.0, gamma=0, learning_rate=0.3, max_depth=3, n_estimators=500, reg_alpha=0.1, reg_lambda=0, subsample=0.8; total time=   6.9s\n",
      "[CV] END colsample_bytree=1.0, gamma=0, learning_rate=0.3, max_depth=3, n_estimators=500, reg_alpha=0.1, reg_lambda=0, subsample=0.8; total time=   8.8s\n",
      "[CV] END colsample_bytree=1.0, gamma=0.3, learning_rate=0.1, max_depth=5, n_estimators=500, reg_alpha=1, reg_lambda=1, subsample=0.8; total time=   8.9s\n",
      "[CV] END colsample_bytree=1.0, gamma=0.3, learning_rate=0.1, max_depth=5, n_estimators=500, reg_alpha=1, reg_lambda=1, subsample=0.8; total time=   9.1s\n",
      "[CV] END colsample_bytree=0.8, gamma=0, learning_rate=0.2, max_depth=7, n_estimators=100, reg_alpha=1, reg_lambda=1, subsample=0.8; total time=   6.0s\n",
      "[CV] END colsample_bytree=0.6, gamma=0.3, learning_rate=0.3, max_depth=5, n_estimators=500, reg_alpha=0, reg_lambda=0.1, subsample=0.8; total time=   3.5s\n",
      "[CV] END colsample_bytree=0.8, gamma=0, learning_rate=0.2, max_depth=7, n_estimators=100, reg_alpha=1, reg_lambda=1, subsample=0.8; total time=   5.9s\n",
      "[CV] END colsample_bytree=0.8, gamma=0, learning_rate=0.2, max_depth=7, n_estimators=100, reg_alpha=1, reg_lambda=1, subsample=0.8; total time=   5.8s\n",
      "[CV] END colsample_bytree=0.6, gamma=0, learning_rate=0.01, max_depth=3, n_estimators=200, reg_alpha=0.5, reg_lambda=0, subsample=0.6; total time=   3.0s\n",
      "[CV] END colsample_bytree=1.0, gamma=0.3, learning_rate=0.1, max_depth=5, n_estimators=500, reg_alpha=1, reg_lambda=1, subsample=0.8; total time=   9.0s\n",
      "[CV] END colsample_bytree=0.6, gamma=0, learning_rate=0.01, max_depth=3, n_estimators=200, reg_alpha=0.5, reg_lambda=0, subsample=0.6; total time=   2.5s\n",
      "[CV] END colsample_bytree=0.6, gamma=0.3, learning_rate=0.3, max_depth=5, n_estimators=500, reg_alpha=0, reg_lambda=0.1, subsample=0.8; total time=   4.2s\n",
      "[CV] END colsample_bytree=0.6, gamma=0.3, learning_rate=0.3, max_depth=5, n_estimators=500, reg_alpha=0, reg_lambda=0.1, subsample=0.8; total time=   4.1s\n",
      "[CV] END colsample_bytree=0.6, gamma=0, learning_rate=0.01, max_depth=3, n_estimators=200, reg_alpha=0.5, reg_lambda=0, subsample=0.6; total time=   3.2s\n",
      "[CV] END colsample_bytree=0.6, gamma=0.3, learning_rate=0.3, max_depth=7, n_estimators=100, reg_alpha=1, reg_lambda=0, subsample=0.6; total time=   2.2s\n",
      "[CV] END colsample_bytree=0.6, gamma=0.3, learning_rate=0.3, max_depth=7, n_estimators=100, reg_alpha=1, reg_lambda=0, subsample=0.6; total time=   2.3s\n",
      "[CV] END colsample_bytree=0.6, gamma=0.3, learning_rate=0.3, max_depth=7, n_estimators=100, reg_alpha=1, reg_lambda=0, subsample=0.6; total time=   1.9s\n",
      "[CV] END colsample_bytree=0.6, gamma=0.1, learning_rate=0.01, max_depth=3, n_estimators=500, reg_alpha=0.5, reg_lambda=1, subsample=0.6; total time=   7.6s\n",
      "[CV] END colsample_bytree=0.6, gamma=0.1, learning_rate=0.01, max_depth=3, n_estimators=500, reg_alpha=0.5, reg_lambda=1, subsample=0.6; total time=   7.3s\n",
      "[CV] END colsample_bytree=0.6, gamma=0.1, learning_rate=0.01, max_depth=3, n_estimators=500, reg_alpha=0.5, reg_lambda=1, subsample=0.6; total time=   7.8s\n",
      "[CV] END colsample_bytree=0.8, gamma=0.3, learning_rate=0.1, max_depth=10, n_estimators=500, reg_alpha=0.1, reg_lambda=0.1, subsample=0.6; total time=   9.5s\n",
      "[CV] END colsample_bytree=0.8, gamma=0.3, learning_rate=0.1, max_depth=10, n_estimators=500, reg_alpha=0.1, reg_lambda=0.1, subsample=0.6; total time=   9.5s\n",
      "[CV] END colsample_bytree=0.8, gamma=0.3, learning_rate=0.1, max_depth=10, n_estimators=500, reg_alpha=0.1, reg_lambda=0.1, subsample=0.6; total time=   9.3s\n",
      "[CV] END colsample_bytree=0.8, gamma=0.3, learning_rate=0.01, max_depth=10, n_estimators=50, reg_alpha=0.1, reg_lambda=0, subsample=1.0; total time=   7.9s\n",
      "[CV] END colsample_bytree=0.8, gamma=0.3, learning_rate=0.01, max_depth=10, n_estimators=50, reg_alpha=0.1, reg_lambda=0, subsample=1.0; total time=   7.9s\n",
      "[CV] END colsample_bytree=0.8, gamma=0.3, learning_rate=0.01, max_depth=10, n_estimators=50, reg_alpha=0.1, reg_lambda=0, subsample=1.0; total time=   7.7s\n",
      "[CV] END colsample_bytree=0.8, gamma=0.3, learning_rate=0.1, max_depth=7, n_estimators=200, reg_alpha=0.5, reg_lambda=1, subsample=0.8; total time=   7.8s\n",
      "[CV] END colsample_bytree=0.6, gamma=0.2, learning_rate=0.2, max_depth=5, n_estimators=500, reg_alpha=0.1, reg_lambda=0.5, subsample=1.0; total time=   5.4s\n",
      "[CV] END colsample_bytree=0.8, gamma=0.3, learning_rate=0.1, max_depth=7, n_estimators=200, reg_alpha=0.5, reg_lambda=1, subsample=0.8; total time=   7.3s\n",
      "[CV] END colsample_bytree=0.6, gamma=0.2, learning_rate=0.2, max_depth=5, n_estimators=500, reg_alpha=0.1, reg_lambda=0.5, subsample=1.0; total time=   5.2s\n",
      "[CV] END colsample_bytree=0.8, gamma=0.1, learning_rate=0.3, max_depth=10, n_estimators=100, reg_alpha=0.5, reg_lambda=0.5, subsample=1.0; total time=   2.7s\n",
      "[CV] END colsample_bytree=0.6, gamma=0.2, learning_rate=0.2, max_depth=5, n_estimators=500, reg_alpha=0.1, reg_lambda=0.5, subsample=1.0; total time=   4.8s\n",
      "[CV] END colsample_bytree=0.8, gamma=0.1, learning_rate=0.3, max_depth=10, n_estimators=100, reg_alpha=0.5, reg_lambda=0.5, subsample=1.0; total time=   2.6s\n",
      "[CV] END colsample_bytree=0.8, gamma=0.3, learning_rate=0.1, max_depth=7, n_estimators=200, reg_alpha=0.5, reg_lambda=1, subsample=0.8; total time=   7.0s\n",
      "[CV] END colsample_bytree=0.8, gamma=0.1, learning_rate=0.3, max_depth=10, n_estimators=100, reg_alpha=0.5, reg_lambda=0.5, subsample=1.0; total time=   3.7s\n",
      "[CV] END colsample_bytree=0.8, gamma=0.3, learning_rate=0.01, max_depth=7, n_estimators=50, reg_alpha=0.5, reg_lambda=1, subsample=0.8; total time=   4.9s\n",
      "[CV] END colsample_bytree=0.8, gamma=0.3, learning_rate=0.01, max_depth=7, n_estimators=50, reg_alpha=0.5, reg_lambda=1, subsample=0.8; total time=   5.0s\n",
      "[CV] END colsample_bytree=0.8, gamma=0.3, learning_rate=0.01, max_depth=7, n_estimators=50, reg_alpha=0.5, reg_lambda=1, subsample=0.8; total time=   5.2s\n",
      "[CV] END colsample_bytree=0.8, gamma=0.1, learning_rate=0.3, max_depth=3, n_estimators=500, reg_alpha=0.5, reg_lambda=1, subsample=0.6; total time=   5.1s\n",
      "[CV] END colsample_bytree=0.8, gamma=0.1, learning_rate=0.3, max_depth=3, n_estimators=500, reg_alpha=0.5, reg_lambda=1, subsample=0.6; total time=   5.0s\n",
      "[CV] END colsample_bytree=0.8, gamma=0.1, learning_rate=0.3, max_depth=3, n_estimators=500, reg_alpha=0.5, reg_lambda=1, subsample=0.6; total time=   6.1s\n",
      "[CV] END colsample_bytree=0.6, gamma=0.2, learning_rate=0.3, max_depth=5, n_estimators=500, reg_alpha=0.1, reg_lambda=0.1, subsample=1.0; total time=   3.9s\n",
      "[CV] END colsample_bytree=0.6, gamma=0.2, learning_rate=0.3, max_depth=5, n_estimators=500, reg_alpha=0.1, reg_lambda=0.1, subsample=1.0; total time=   4.0s\n",
      "[CV] END colsample_bytree=0.6, gamma=0.2, learning_rate=0.3, max_depth=5, n_estimators=500, reg_alpha=0.1, reg_lambda=0.1, subsample=1.0; total time=   4.0s\n",
      "[CV] END colsample_bytree=1.0, gamma=0.2, learning_rate=0.1, max_depth=10, n_estimators=100, reg_alpha=0.5, reg_lambda=0.1, subsample=0.8; total time=   8.0s\n",
      "[CV] END colsample_bytree=1.0, gamma=0.2, learning_rate=0.1, max_depth=10, n_estimators=100, reg_alpha=0.5, reg_lambda=0.1, subsample=0.8; total time=   8.8s\n",
      "[CV] END colsample_bytree=0.6, gamma=0.1, learning_rate=0.3, max_depth=5, n_estimators=200, reg_alpha=1, reg_lambda=0, subsample=0.8; total time=   2.9s\n",
      "[CV] END colsample_bytree=0.6, gamma=0.1, learning_rate=0.3, max_depth=5, n_estimators=200, reg_alpha=1, reg_lambda=0, subsample=0.8; total time=   2.9s\n",
      "[CV] END colsample_bytree=0.6, gamma=0.1, learning_rate=0.3, max_depth=5, n_estimators=200, reg_alpha=1, reg_lambda=0, subsample=0.8; total time=   3.0s\n",
      "[CV] END colsample_bytree=1.0, gamma=0.2, learning_rate=0.1, max_depth=10, n_estimators=100, reg_alpha=0.5, reg_lambda=0.1, subsample=0.8; total time=   8.3s\n",
      "[CV] END colsample_bytree=1.0, gamma=0, learning_rate=0.1, max_depth=5, n_estimators=200, reg_alpha=0.5, reg_lambda=0.5, subsample=0.8; total time=   8.0s\n",
      "[CV] END colsample_bytree=1.0, gamma=0, learning_rate=0.1, max_depth=5, n_estimators=200, reg_alpha=0.5, reg_lambda=0.5, subsample=0.8; total time=   8.2s\n",
      "[CV] END colsample_bytree=1.0, gamma=0, learning_rate=0.1, max_depth=5, n_estimators=200, reg_alpha=0.5, reg_lambda=0.5, subsample=0.8; total time=   7.5s\n"
     ]
    },
    {
     "data": {
      "text/plain": [
       "{'subsample': 0.6,\n",
       " 'reg_lambda': 0,\n",
       " 'reg_alpha': 0.5,\n",
       " 'n_estimators': 500,\n",
       " 'max_depth': 5,\n",
       " 'learning_rate': 0.2,\n",
       " 'gamma': 0,\n",
       " 'colsample_bytree': 0.8}"
      ]
     },
     "execution_count": 12,
     "metadata": {},
     "output_type": "execute_result"
    }
   ],
   "source": [
    "param_grid_xgb = {\n",
    "    \"n_estimators\": [50, 100, 200, 500],  # Number of boosting rounds\n",
    "    \"learning_rate\": [0.01, 0.1, 0.2, 0.3],  # Step size shrinkage\n",
    "    \"max_depth\": [3, 5, 7, 10],  # Maximum depth of trees\n",
    "    \"subsample\": [0.6, 0.8, 1.0],  # Fraction of samples per boosting round\n",
    "    \"colsample_bytree\": [0.6, 0.8, 1.0],  # Fraction of features for each tree\n",
    "    \"gamma\": [0, 0.1, 0.2, 0.3],  # Minimum loss reduction required for a split\n",
    "    \"reg_alpha\": [0, 0.1, 0.5, 1],  # L1 regularization\n",
    "    \"reg_lambda\": [0, 0.1, 0.5, 1],  # L2 regularization\n",
    "}\n",
    "model = XGBClassifier()\n",
    "randomcv = RandomizedSearchCV(\n",
    "    estimator=model,\n",
    "    param_distributions=param_grid_xgb,\n",
    "    n_iter=100,\n",
    "    cv=3,\n",
    "    verbose=2,\n",
    "    n_jobs=-1,\n",
    ")\n",
    "randomcv.fit(X_train, y_train)\n",
    "randomcv.best_params_"
   ]
  },
  {
   "cell_type": "code",
   "execution_count": 13,
   "metadata": {},
   "outputs": [
    {
     "name": "stdout",
     "output_type": "stream",
     "text": [
      "Training XGBoost model\n",
      "              precision    recall  f1-score   support\n",
      "\n",
      "       blues       0.89      0.92      0.90       200\n",
      "   classical       0.92      0.97      0.95       199\n",
      "     country       0.87      0.86      0.87       199\n",
      "       disco       0.87      0.92      0.90       200\n",
      "      hiphop       0.92      0.92      0.92       200\n",
      "        jazz       0.90      0.91      0.90       200\n",
      "       metal       0.95      0.96      0.96       200\n",
      "         pop       0.94      0.84      0.89       200\n",
      "      reggae       0.90      0.92      0.91       200\n",
      "        rock       0.91      0.84      0.88       200\n",
      "\n",
      "    accuracy                           0.91      1998\n",
      "   macro avg       0.91      0.91      0.91      1998\n",
      "weighted avg       0.91      0.91      0.91      1998\n",
      "\n",
      "[[183   2   2   2   1   2   2   0   4   2]\n",
      " [  0 194   0   0   0   4   0   1   0   0]\n",
      " [  7   1 172   2   1   5   1   2   4   4]\n",
      " [  1   1   5 184   2   0   3   1   2   1]\n",
      " [  0   0   1   3 184   2   3   4   3   0]\n",
      " [  3   8   6   0   0 182   0   0   1   0]\n",
      " [  1   0   0   3   0   0 192   0   1   3]\n",
      " [  0   0   2   9   9   1   0 168   5   6]\n",
      " [  4   2   1   1   2   3   0   2 184   1]\n",
      " [  6   2   8   7   1   4   1   1   1 169]]\n"
     ]
    }
   ],
   "source": [
    "# evaluating the xgboost model with the best parameters\n",
    "model = build_pipeline(\n",
    "    \"XGBoost\",\n",
    "    XGBClassifier(\n",
    "        n_estimators=500,\n",
    "        max_depth=5,\n",
    "        learning_rate=0.2,\n",
    "        gamma=0,\n",
    "        colsample_bytree=0.8,\n",
    "        reg_alpha=0,\n",
    "        reg_lambda=1,\n",
    "        subsample=0.8,\n",
    "    ),\n",
    ")[1]\n",
    "model.fit(X_train, y_train)\n",
    "y_pred = model.predict(X_test)\n",
    "print(classification_report(y_test, y_pred, target_names=le.classes_))\n",
    "print(confusion_matrix(y_test, y_pred))"
   ]
  },
  {
   "cell_type": "code",
   "execution_count": 25,
   "metadata": {},
   "outputs": [
    {
     "data": {
      "image/png": "[encoded data removed]",
      "text/plain": [
       "<Figure size 2000x1200 with 1 Axes>"
      ]
     },
     "metadata": {
      "image/png": {
       "height": 1008,
       "width": 1781
      }
     },
     "output_type": "display_data"
    }
   ],
   "source": [
    "# print the importance of each feature\n",
    "\n",
    "xgb_model = model.named_steps[\"model\"]\n",
    "# Get feature importance scores\n",
    "importance = xgb_model.feature_importances_\n",
    "\n",
    "\n",
    "# Get feature names\n",
    "feature_names = data.columns[:-1]\n",
    "# Convert to DataFrame\n",
    "importance_df = pd.DataFrame({\"Feature\": feature_names, \"Importance\": importance})\n",
    "\n",
    "# Sort by importance\n",
    "importance_df = importance_df.sort_values(by=\"Importance\", ascending=False)\n",
    "\n",
    "importance_df = importance_df.head(10)\n",
    "\n",
    "# Plot with correct y-axis labels\n",
    "plt.figure(figsize=(20, 12))\n",
    "sns.barplot(x=\"Importance\", y=\"Feature\", data=importance_df)\n",
    "plt.xlabel(\"Importance Score\")\n",
    "plt.ylabel(\"Feature Name\")\n",
    "plt.title(\"Feature Importance\")\n",
    "plt.savefig(\"../report/graphics/feature_importance.pdf\")\n",
    "plt.show()"
   ]
  },
  {
   "cell_type": "code",
   "execution_count": null,
   "metadata": {},
   "outputs": [
    {
     "name": "stdout",
     "output_type": "stream",
     "text": [
      "Training SVM model\n",
      "              precision    recall  f1-score   support\n",
      "\n",
      "       blues       0.83      0.85      0.84       200\n",
      "   classical       0.86      0.96      0.91       199\n",
      "     country       0.83      0.81      0.82       199\n",
      "       disco       0.77      0.81      0.79       200\n",
      "      hiphop       0.90      0.81      0.86       200\n",
      "        jazz       0.85      0.88      0.87       200\n",
      "       metal       0.92      0.92      0.92       200\n",
      "         pop       0.90      0.81      0.86       200\n",
      "      reggae       0.83      0.86      0.85       200\n",
      "        rock       0.78      0.73      0.76       200\n",
      "\n",
      "    accuracy                           0.85      1998\n",
      "   macro avg       0.85      0.85      0.85      1998\n",
      "weighted avg       0.85      0.85      0.85      1998\n",
      "\n",
      "[[170   3   4   3   2   7   6   0   2   3]\n",
      " [  0 191   1   0   0   4   0   0   0   3]\n",
      " [ 11   2 161   1   0   5   1   5   3  10]\n",
      " [  0   2   1 162   3   2   7   3   6  14]\n",
      " [  1   4   3   6 163   0   2   8  13   0]\n",
      " [  6  13   3   1   0 176   0   0   0   1]\n",
      " [  2   0   0   5   3   0 184   0   2   4]\n",
      " [  0   4   4  12   4   2   0 163   6   5]\n",
      " [  5   2   5   3   5   3   0   2 173   2]\n",
      " [  9   1  12  18   1   7   1   0   4 147]]\n"
     ]
    }
   ],
   "source": [
    "# Evaluate SVM model\n",
    "model = build_pipeline(\"SVM\", SVC())[1]\n",
    "model.fit(X_train, y_train)\n",
    "y_pred = model.predict(X_test)\n",
    "print(classification_report(y_test, y_pred, target_names=le.classes_))\n",
    "print(confusion_matrix(y_test, y_pred))"
   ]
  },
  {
   "cell_type": "code",
   "execution_count": null,
   "metadata": {},
   "outputs": [
    {
     "name": "stdout",
     "output_type": "stream",
     "text": [
      "Training Random Forest model\n",
      "              precision    recall  f1-score   support\n",
      "\n",
      "       blues       0.85      0.87      0.86       200\n",
      "   classical       0.91      0.97      0.94       199\n",
      "     country       0.81      0.82      0.82       199\n",
      "       disco       0.81      0.84      0.83       200\n",
      "      hiphop       0.92      0.86      0.89       200\n",
      "        jazz       0.86      0.91      0.89       200\n",
      "       metal       0.88      0.94      0.91       200\n",
      "         pop       0.95      0.83      0.89       200\n",
      "      reggae       0.83      0.86      0.85       200\n",
      "        rock       0.86      0.76      0.81       200\n",
      "\n",
      "    accuracy                           0.87      1998\n",
      "   macro avg       0.87      0.87      0.87      1998\n",
      "weighted avg       0.87      0.87      0.87      1998\n",
      "\n",
      "[[174   1   6   3   0   4   6   0   5   1]\n",
      " [  0 193   1   0   0   4   0   0   0   1]\n",
      " [  9   3 164   3   0   7   1   3   6   3]\n",
      " [  2   1   6 169   1   1   7   0   7   6]\n",
      " [  1   1   2   6 172   1   4   4   7   2]\n",
      " [  6   9   2   1   0 182   0   0   0   0]\n",
      " [  1   0   0   2   4   0 188   0   2   3]\n",
      " [  0   1   5  11   4   1   0 167   6   5]\n",
      " [  5   2   4   2   5   4   0   2 173   3]\n",
      " [  6   1  13  12   0   7   7   0   3 151]]\n"
     ]
    }
   ],
   "source": [
    "# Evaluate Random Forest model\n",
    "model = build_pipeline(\"Random Forest\", RandomForestClassifier())[1]\n",
    "model.fit(X_train, y_train)\n",
    "y_pred = model.predict(X_test)\n",
    "print(classification_report(y_test, y_pred, target_names=le.classes_))\n",
    "print(confusion_matrix(y_test, y_pred))"
   ]
  }
 ],
 "metadata": {
  "kernelspec": {
   "display_name": ".venv",
   "language": "python",
   "name": "python3"
  },
  "language_info": {
   "codemirror_mode": {
    "name": "ipython",
    "version": 3
   },
   "file_extension": ".py",
   "mimetype": "text/x-python",
   "name": "python",
   "nbconvert_exporter": "python",
   "pygments_lexer": "ipython3",
   "version": "3.10.13"
  }
 },
 "nbformat": 4,
 "nbformat_minor": 2
}
