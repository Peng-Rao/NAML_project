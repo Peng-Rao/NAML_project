{
 "cells": [
  {
   "cell_type": "code",
   "execution_count": null,
   "metadata": {},
   "outputs": [],
   "source": [
    "import os\n",
    "import warnings\n",
    "\n",
    "import librosa\n",
    "import matplotlib.pyplot as plt\n",
    "import numpy as np\n",
    "import seaborn as sns\n",
    "import tensorflow as tf\n",
    "from keras import models\n",
    "from sklearn.metrics import confusion_matrix\n",
    "\n",
    "os.environ[\"KERAS_BACKEND\"] = \"jax\"\n",
    "warnings.filterwarnings(\"ignore\")\n",
    "\n",
    "%matplotlib inline\n",
    "%config InlineBackend.figure_format='retina'"
   ]
  },
  {
   "cell_type": "markdown",
   "metadata": {},
   "source": [
    "## Read the dataset\n"
   ]
  },
  {
   "cell_type": "code",
   "execution_count": null,
   "metadata": {},
   "outputs": [],
   "source": [
    "data_dir = \"../Data/genres_original/\"\n",
    "classes = [\n",
    "    \"blues\",\n",
    "    \"classical\",\n",
    "    \"country\",\n",
    "    \"disco\",\n",
    "    \"hiphop\",\n",
    "    \"jazz\",\n",
    "    \"metal\",\n",
    "    \"pop\",\n",
    "    \"reggae\",\n",
    "    \"rock\",\n",
    "]"
   ]
  },
  {
   "cell_type": "code",
   "execution_count": null,
   "metadata": {},
   "outputs": [],
   "source": [
    "def load_and_preprocess_data(data_dir, classes, target_shape=(150, 150)):\n",
    "    data = []\n",
    "    labels = []\n",
    "    for i_class, class_name in enumerate(classes):\n",
    "        class_dir = os.path.join(data_dir, class_name)\n",
    "        print(\"Processing--\", class_name)\n",
    "        for file_name in os.listdir(class_dir):\n",
    "            if file_name.endswith(\".wav\"):\n",
    "                file_path = os.path.join(class_dir, file_name)\n",
    "                try:\n",
    "                    # Try to load the audio file\n",
    "                    audio_data, sample_rate = librosa.load(file_path, sr=None)\n",
    "\n",
    "                    # Performing preprocessing\n",
    "                    chunk_duration = 4\n",
    "                    overlap_duration = 2\n",
    "                    chunk_samples = chunk_duration * sample_rate\n",
    "                    overlap_samples = overlap_duration * sample_rate\n",
    "                    num_chunks = (\n",
    "                        int(\n",
    "                            np.ceil(\n",
    "                                (len(audio_data) - chunk_samples)\n",
    "                                / (chunk_samples - overlap_samples)\n",
    "                            )\n",
    "                        )\n",
    "                        + 1\n",
    "                    )\n",
    "\n",
    "                    # Iterate over each chunk\n",
    "                    for i in range(num_chunks):\n",
    "                        start = i * (chunk_samples - overlap_samples)\n",
    "                        end = start + chunk_samples\n",
    "                        chunk = audio_data[start:end]\n",
    "                        mel_spectrogram = librosa.feature.melspectrogram(\n",
    "                            y=chunk, sr=sample_rate\n",
    "                        )\n",
    "\n",
    "                        # Resize matrix to the target shape\n",
    "                        mel_spectrogram = tf.image.resize(\n",
    "                            np.expand_dims(mel_spectrogram, axis=-1), target_shape\n",
    "                        )\n",
    "                        data.append(mel_spectrogram)\n",
    "                        labels.append(i_class)\n",
    "                except Exception as e:\n",
    "                    # Handle the exception and skip the corrupted file\n",
    "                    print(f\"Error processing file {file_path}: {e}\")\n",
    "\n",
    "    return np.array(data), np.array(labels)"
   ]
  },
  {
   "cell_type": "code",
   "execution_count": null,
   "metadata": {},
   "outputs": [],
   "source": [
    "data, labels = load_and_preprocess_data(data_dir, classes)"
   ]
  },
  {
   "cell_type": "code",
   "execution_count": null,
   "metadata": {},
   "outputs": [],
   "source": [
    "data.shape"
   ]
  },
  {
   "cell_type": "code",
   "execution_count": null,
   "metadata": {},
   "outputs": [],
   "source": [
    "labels.shape"
   ]
  },
  {
   "cell_type": "code",
   "execution_count": null,
   "metadata": {},
   "outputs": [],
   "source": [
    "len(classes)"
   ]
  },
  {
   "cell_type": "code",
   "execution_count": null,
   "metadata": {},
   "outputs": [],
   "source": [
    "from keras import utils\n",
    "\n",
    "labels = utils.to_categorical(labels, num_classes=len(classes))\n",
    "labels"
   ]
  },
  {
   "cell_type": "code",
   "execution_count": null,
   "metadata": {},
   "outputs": [],
   "source": [
    "from sklearn.model_selection import train_test_split\n",
    "\n",
    "X_train, X_test, y_train, y_test = train_test_split(\n",
    "    data, labels, test_size=0.2, random_state=42\n",
    ")"
   ]
  },
  {
   "cell_type": "code",
   "execution_count": null,
   "metadata": {},
   "outputs": [],
   "source": [
    "X_train.shape, X_test.shape, y_train.shape, y_test.shape"
   ]
  },
  {
   "cell_type": "markdown",
   "metadata": {},
   "source": [
    "## Build the model\n"
   ]
  },
  {
   "cell_type": "code",
   "execution_count": null,
   "metadata": {},
   "outputs": [],
   "source": [
    "from keras import layers\n",
    "\n",
    "model = models.Sequential()\n",
    "\n",
    "# convolutional layers parameters\n",
    "conv_layers = [\n",
    "    (32, 2),\n",
    "    (64, 2),\n",
    "    (128, 2),\n",
    "    (256, 2),\n",
    "    (512, 2),\n",
    "]\n",
    "\n",
    "# Input layer\n",
    "model.add(\n",
    "    layers.Conv2D(\n",
    "        filters=conv_layers[0][0],\n",
    "        kernel_size=3,\n",
    "        padding=\"same\",\n",
    "        activation=\"relu\",\n",
    "        input_shape=X_train[0].shape,\n",
    "    )\n",
    ")\n",
    "\n",
    "# Convolutional layers\n",
    "for filters, num_layers in conv_layers:\n",
    "    for _ in range(num_layers - 1):\n",
    "        model.add(layers.Conv2D(filters=filters, kernel_size=3, activation=\"relu\"))\n",
    "    model.add(layers.MaxPool2D(pool_size=2, strides=2))\n",
    "    if filters >= 128:\n",
    "        model.add(layers.Dropout(0.3))\n",
    "\n",
    "# Full connected layers\n",
    "model.add(layers.Flatten())\n",
    "model.add(layers.Dense(units=1200, activation=\"relu\"))\n",
    "model.add(layers.Dropout(0.45))\n",
    "model.add(layers.Dense(units=len(classes), activation=\"softmax\"))\n"
   ]
  },
  {
   "cell_type": "code",
   "execution_count": null,
   "metadata": {},
   "outputs": [],
   "source": [
    "model.summary()"
   ]
  },
  {
   "cell_type": "code",
   "execution_count": null,
   "metadata": {},
   "outputs": [],
   "source": [
    "from keras import optimizers\n",
    "\n",
    "model.compile(\n",
    "    optimizer=optimizers.Adam(learning_rate=0.0001),\n",
    "    loss=\"categorical_crossentropy\",\n",
    "    metrics=[\"accuracy\"],\n",
    ")"
   ]
  },
  {
   "cell_type": "code",
   "execution_count": null,
   "metadata": {},
   "outputs": [],
   "source": [
    "from keras import callbacks\n",
    "\n",
    "checkpoint = callbacks.ModelCheckpoint(\n",
    "    \"working/model_weights.keras\",\n",
    "    save_best_only=True,\n",
    "    monitor=\"val_loss\",\n",
    "    mode=\"min\",\n",
    ")"
   ]
  },
  {
   "cell_type": "code",
   "execution_count": null,
   "metadata": {},
   "outputs": [],
   "source": [
    "training_history = model.fit(\n",
    "    X_train,\n",
    "    y_train,\n",
    "    epochs=30,\n",
    "    batch_size=32,\n",
    "    validation_data=(X_test, y_test),\n",
    "    callbacks=[checkpoint],\n",
    ")"
   ]
  },
  {
   "cell_type": "code",
   "execution_count": null,
   "metadata": {},
   "outputs": [],
   "source": [
    "plt.figure(figsize=(12, 4))\n",
    "\n",
    "plt.subplot(1, 2, 1)\n",
    "plt.plot(training_history.history[\"loss\"], label=\"Training Loss\")\n",
    "plt.plot(training_history.history[\"val_loss\"], label=\"Validation Loss\")\n",
    "plt.xlabel(\"Epochs\")\n",
    "plt.ylabel(\"Loss\")\n",
    "plt.title(\"Loss Curve\")\n",
    "plt.legend()\n",
    "\n",
    "plt.subplot(1, 2, 2)\n",
    "plt.plot(training_history.history[\"accuracy\"], label=\"Training Accuracy\")\n",
    "plt.plot(training_history.history[\"val_accuracy\"], label=\"Validation Accuracy\")\n",
    "plt.xlabel(\"Epochs\")\n",
    "plt.ylabel(\"Accuracy\")\n",
    "plt.title(\"Accuracy Curve\")\n",
    "plt.legend()\n",
    "\n",
    "plt.show()"
   ]
  },
  {
   "cell_type": "code",
   "execution_count": null,
   "metadata": {},
   "outputs": [],
   "source": [
    "model = models.load_model(\"working/model_weights.keras\")\n",
    "y_pred = model.predict(X_test)\n",
    "y_pred_classes = np.argmax(y_pred, axis=1)\n",
    "y_true_classes = np.argmax(y_test, axis=1)\n",
    "\n",
    "cm = confusion_matrix(y_true_classes, y_pred_classes)\n",
    "\n",
    "plt.figure(figsize=(8, 6))\n",
    "sns.heatmap(\n",
    "    cm,\n",
    "    annot=True,\n",
    "    fmt=\"d\",\n",
    "    cmap=\"Blues\",\n",
    "    xticklabels=classes,\n",
    "    yticklabels=classes,\n",
    ")\n",
    "plt.xlabel(\"Predicted Label\")\n",
    "plt.ylabel(\"True Label\")\n",
    "plt.title(\"Confusion Matrix\")\n",
    "# save the plot\n",
    "plt.savefig(\"../report/graphics/cnn_evaluation.pdf\")\n",
    "plt.show()"
   ]
  },
  {
   "cell_type": "code",
   "execution_count": null,
   "metadata": {},
   "outputs": [],
   "source": [
    "# calculate accuracy\n",
    "accuracy = np.sum(y_pred_classes == y_true_classes) / len(y_true_classes)\n",
    "accuracy"
   ]
  },
  {
   "cell_type": "code",
   "execution_count": null,
   "metadata": {},
   "outputs": [],
   "source": [
    "from sklearn.metrics import f1_score, precision_score, recall_score\n",
    "\n",
    "precision = precision_score(y_true_classes, y_pred_classes, average=\"macro\")\n",
    "recall = recall_score(y_true_classes, y_pred_classes, average=\"macro\")\n",
    "f1 = f1_score(y_true_classes, y_pred_classes, average=\"macro\")\n",
    "\n",
    "print(\"Precision:\", precision)\n",
    "print(\"Recall:\", recall)\n",
    "print(\"F1-score:\", f1)"
   ]
  },
  {
   "cell_type": "code",
   "execution_count": null,
   "metadata": {},
   "outputs": [],
   "source": []
  }
 ],
 "metadata": {
  "kernelspec": {
   "display_name": ".venv",
   "language": "python",
   "name": "python3"
  },
  "language_info": {
   "codemirror_mode": {
    "name": "ipython",
    "version": 3
   },
   "file_extension": ".py",
   "mimetype": "text/x-python",
   "name": "python",
   "nbconvert_exporter": "python",
   "pygments_lexer": "ipython3",
   "version": "3.10.13"
  }
 },
 "nbformat": 4,
 "nbformat_minor": 2
}
