{
 "cells": [
  {
   "cell_type": "code",
   "execution_count": 1,
   "metadata": {},
   "outputs": [],
   "source": [
    "import pandas as pd\n",
    "import numpy as np\n",
    "import xgboost as xgb\n",
    "from sklearn.model_selection import StratifiedKFold\n",
    "from sklearn.metrics import classification_report, accuracy_score, confusion_matrix\n",
    "from sklearn.preprocessing import LabelEncoder, StandardScaler\n",
    "from sklearn.utils.class_weight import compute_class_weight"
   ]
  },
  {
   "cell_type": "code",
   "execution_count": 2,
   "metadata": {},
   "outputs": [],
   "source": [
    "# Step 1: Load and Preprocess Dataset\n",
    "file_path = \"../Data/features_30_sec.csv\"  # 训练数据集\n",
    "data = pd.read_csv(file_path)\n",
    "data.drop(labels=\"filename\", axis=1, inplace=True)"
   ]
  },
  {
   "cell_type": "code",
   "execution_count": 3,
   "metadata": {},
   "outputs": [],
   "source": [
    "# Separate features and target\n",
    "X = data.iloc[:, :-1]  # All columns except the last one (features)\n",
    "y = data[\"label\"]  # Target column"
   ]
  },
  {
   "cell_type": "code",
   "execution_count": 4,
   "metadata": {},
   "outputs": [],
   "source": [
    "# Encode target labels to numerical values\n",
    "label_encoder = LabelEncoder()\n",
    "y_encoded = label_encoder.fit_transform(y)\n",
    "\n",
    "# Standardize the features\n",
    "scaler = StandardScaler()\n",
    "X_scaled = scaler.fit_transform(X)\n",
    "\n",
    "# Compute class weights to handle potential imbalance\n",
    "class_weights = compute_class_weight(\n",
    "    \"balanced\", classes=np.unique(y_encoded), y=y_encoded\n",
    ")\n",
    "class_weight_dict = dict(zip(np.unique(y_encoded), class_weights))\n",
    "\n",
    "# Convert class_weight_dict to an array that will be used for sample_weight\n",
    "sample_weights = np.array([class_weight_dict[class_label] for class_label in y_encoded])\n",
    "\n",
    "# Step 2: Train the XGBoost Model using Stratified Cross-Validation\n",
    "model = xgb.XGBClassifier(\n",
    "    n_estimators=200, random_state=42, learning_rate=0.01, max_depth=6, subsample=0.8\n",
    ")\n"
   ]
  },
  {
   "cell_type": "code",
   "execution_count": 5,
   "metadata": {},
   "outputs": [
    {
     "name": "stdout",
     "output_type": "stream",
     "text": [
      "Cross-validation accuracy: 0.7730\n"
     ]
    }
   ],
   "source": [
    "# Stratified K-Fold Cross-Validation\n",
    "kfold = StratifiedKFold(n_splits=5, shuffle=True, random_state=42)\n",
    "cv_results = []\n",
    "\n",
    "for train_idx, test_idx in kfold.split(X_scaled, y_encoded):\n",
    "    X_train, X_test = X_scaled[train_idx], X_scaled[test_idx]\n",
    "    y_train, y_test = y_encoded[train_idx], y_encoded[test_idx]\n",
    "\n",
    "    # Generate sample weights for the current split\n",
    "    train_sample_weights = sample_weights[train_idx]\n",
    "\n",
    "    # Fit model with class weights (sample_weight)\n",
    "    model.fit(X_train, y_train, sample_weight=train_sample_weights)\n",
    "\n",
    "    # Evaluate model\n",
    "    y_pred = model.predict(X_test)\n",
    "    cv_results.append(accuracy_score(y_test, y_pred))\n",
    "\n",
    "print(f\"Cross-validation accuracy: {np.mean(cv_results):.4f}\")\n"
   ]
  },
  {
   "cell_type": "code",
   "execution_count": 6,
   "metadata": {},
   "outputs": [
    {
     "name": "stdout",
     "output_type": "stream",
     "text": [
      "\n",
      "Overall Model Accuracy: 0.9920\n",
      "\n",
      "Overall Confusion Matrix:\n",
      "[[100   0   0   0   0   0   0   0   0   0]\n",
      " [  0 100   0   0   0   0   0   0   0   0]\n",
      " [  0   0 100   0   0   0   0   0   0   0]\n",
      " [  0   0   1  98   1   0   0   0   0   0]\n",
      " [  0   0   0   0  99   0   1   0   0   0]\n",
      " [  0   0   1   0   0  99   0   0   0   0]\n",
      " [  0   0   0   0   0   0  99   0   0   1]\n",
      " [  0   0   0   0   0   0   0 100   0   0]\n",
      " [  0   0   1   0   0   0   0   1  98   0]\n",
      " [  0   0   1   0   0   0   0   0   0  99]]\n"
     ]
    }
   ],
   "source": [
    "# Step 3: Train on the Entire Dataset and Compute Overall Metrics\n",
    "model.fit(X_scaled, y_encoded, sample_weight=sample_weights)\n",
    "\n",
    "# Predict on the entire dataset for confusion matrix and accuracy\n",
    "y_pred_overall = model.predict(X_scaled)\n",
    "\n",
    "# Compute accuracy\n",
    "overall_accuracy = accuracy_score(y_encoded, y_pred_overall)\n",
    "print(f\"\\nOverall Model Accuracy: {overall_accuracy:.4f}\")\n",
    "\n",
    "# Compute confusion matrix\n",
    "cm_overall = confusion_matrix(y_encoded, y_pred_overall)\n",
    "print(\"\\nOverall Confusion Matrix:\")\n",
    "print(cm_overall)"
   ]
  },
  {
   "cell_type": "code",
   "execution_count": 7,
   "metadata": {},
   "outputs": [
    {
     "name": "stdout",
     "output_type": "stream",
     "text": [
      "\n",
      "Classification Report:\n",
      "              precision    recall  f1-score   support\n",
      "\n",
      "       blues       1.00      1.00      1.00       100\n",
      "   classical       1.00      1.00      1.00       100\n",
      "     country       0.96      1.00      0.98       100\n",
      "       disco       1.00      0.98      0.99       100\n",
      "      hiphop       0.99      0.99      0.99       100\n",
      "        jazz       1.00      0.99      0.99       100\n",
      "       metal       0.99      0.99      0.99       100\n",
      "         pop       0.99      1.00      1.00       100\n",
      "      reggae       1.00      0.98      0.99       100\n",
      "        rock       0.99      0.99      0.99       100\n",
      "\n",
      "    accuracy                           0.99      1000\n",
      "   macro avg       0.99      0.99      0.99      1000\n",
      "weighted avg       0.99      0.99      0.99      1000\n",
      "\n"
     ]
    }
   ],
   "source": [
    "# Display Classification Report\n",
    "print(\"\\nClassification Report:\")\n",
    "print(\n",
    "    classification_report(\n",
    "        y_encoded, y_pred_overall, target_names=label_encoder.classes_\n",
    "    )\n",
    ")"
   ]
  }
 ],
 "metadata": {
  "kernelspec": {
   "display_name": ".venv",
   "language": "python",
   "name": "python3"
  },
  "language_info": {
   "codemirror_mode": {
    "name": "ipython",
    "version": 3
   },
   "file_extension": ".py",
   "mimetype": "text/x-python",
   "name": "python",
   "nbconvert_exporter": "python",
   "pygments_lexer": "ipython3",
   "version": "3.10.13"
  }
 },
 "nbformat": 4,
 "nbformat_minor": 2
}
